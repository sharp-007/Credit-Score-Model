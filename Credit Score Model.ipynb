{
 "cells": [
  {
   "cell_type": "markdown",
   "metadata": {},
   "source": [
    "# 信用评分卡"
   ]
  },
  {
   "cell_type": "markdown",
   "metadata": {},
   "source": [
    "# 流程\n",
    "1.获取数据并对数据进行预处理\\\n",
    "2.对数据进行探索性分析\\\n",
    "3.构建模型并分析模型\\\n",
    "4.模型检验\\\n",
    "5.信用评分卡的建立"
   ]
  },
  {
   "cell_type": "markdown",
   "metadata": {},
   "source": [
    "# 步骤"
   ]
  },
  {
   "cell_type": "markdown",
   "metadata": {},
   "source": [
    "## 1.导入相应包，并读取数据"
   ]
  },
  {
   "cell_type": "code",
   "execution_count": 1,
   "metadata": {
    "ExecuteTime": {
     "end_time": "2022-08-17T15:35:08.190833Z",
     "start_time": "2022-08-17T15:35:05.417887Z"
    }
   },
   "outputs": [],
   "source": [
    "%matplotlib inline\n",
    "import numpy as np # linear algebra\n",
    "import pandas as pd # data processing, CSV file I/O (e.g. pd.read_csv)\n",
    "import calendar\n",
    "import matplotlib.pyplot as plt\n",
    "import seaborn as sns\n",
    "color = sns.color_palette()\n",
    "from subprocess import check_output\n",
    "plt.rcParams['font.sans-serif'] = ['SimHei']  # 用来正常显示中文标签\n",
    "plt.rcParams['axes.unicode_minus'] = False  # 用来正常显示"
   ]
  },
  {
   "cell_type": "code",
   "execution_count": 2,
   "metadata": {
    "ExecuteTime": {
     "end_time": "2022-08-17T15:35:10.005256Z",
     "start_time": "2022-08-17T15:35:08.193830Z"
    }
   },
   "outputs": [
    {
     "data": {
      "text/html": [
       "<div>\n",
       "<style scoped>\n",
       "    .dataframe tbody tr th:only-of-type {\n",
       "        vertical-align: middle;\n",
       "    }\n",
       "\n",
       "    .dataframe tbody tr th {\n",
       "        vertical-align: top;\n",
       "    }\n",
       "\n",
       "    .dataframe thead th {\n",
       "        text-align: right;\n",
       "    }\n",
       "</style>\n",
       "<table border=\"1\" class=\"dataframe\">\n",
       "  <thead>\n",
       "    <tr style=\"text-align: right;\">\n",
       "      <th></th>\n",
       "      <th>Unnamed: 0</th>\n",
       "      <th>SeriousDlqin2yrs</th>\n",
       "      <th>RevolvingUtilizationOfUnsecuredLines</th>\n",
       "      <th>age</th>\n",
       "      <th>NumberOfTime30-59DaysPastDueNotWorse</th>\n",
       "      <th>DebtRatio</th>\n",
       "      <th>MonthlyIncome</th>\n",
       "      <th>NumberOfOpenCreditLinesAndLoans</th>\n",
       "      <th>NumberOfTimes90DaysLate</th>\n",
       "      <th>NumberRealEstateLoansOrLines</th>\n",
       "      <th>NumberOfTime60-89DaysPastDueNotWorse</th>\n",
       "      <th>NumberOfDependents</th>\n",
       "    </tr>\n",
       "  </thead>\n",
       "  <tbody>\n",
       "    <tr>\n",
       "      <th>0</th>\n",
       "      <td>1</td>\n",
       "      <td>1</td>\n",
       "      <td>0.766127</td>\n",
       "      <td>45</td>\n",
       "      <td>2</td>\n",
       "      <td>0.802982</td>\n",
       "      <td>9120.0</td>\n",
       "      <td>13</td>\n",
       "      <td>0</td>\n",
       "      <td>6</td>\n",
       "      <td>0</td>\n",
       "      <td>2.0</td>\n",
       "    </tr>\n",
       "    <tr>\n",
       "      <th>1</th>\n",
       "      <td>2</td>\n",
       "      <td>0</td>\n",
       "      <td>0.957151</td>\n",
       "      <td>40</td>\n",
       "      <td>0</td>\n",
       "      <td>0.121876</td>\n",
       "      <td>2600.0</td>\n",
       "      <td>4</td>\n",
       "      <td>0</td>\n",
       "      <td>0</td>\n",
       "      <td>0</td>\n",
       "      <td>1.0</td>\n",
       "    </tr>\n",
       "    <tr>\n",
       "      <th>2</th>\n",
       "      <td>3</td>\n",
       "      <td>0</td>\n",
       "      <td>0.658180</td>\n",
       "      <td>38</td>\n",
       "      <td>1</td>\n",
       "      <td>0.085113</td>\n",
       "      <td>3042.0</td>\n",
       "      <td>2</td>\n",
       "      <td>1</td>\n",
       "      <td>0</td>\n",
       "      <td>0</td>\n",
       "      <td>0.0</td>\n",
       "    </tr>\n",
       "    <tr>\n",
       "      <th>3</th>\n",
       "      <td>4</td>\n",
       "      <td>0</td>\n",
       "      <td>0.233810</td>\n",
       "      <td>30</td>\n",
       "      <td>0</td>\n",
       "      <td>0.036050</td>\n",
       "      <td>3300.0</td>\n",
       "      <td>5</td>\n",
       "      <td>0</td>\n",
       "      <td>0</td>\n",
       "      <td>0</td>\n",
       "      <td>0.0</td>\n",
       "    </tr>\n",
       "    <tr>\n",
       "      <th>4</th>\n",
       "      <td>5</td>\n",
       "      <td>0</td>\n",
       "      <td>0.907239</td>\n",
       "      <td>49</td>\n",
       "      <td>1</td>\n",
       "      <td>0.024926</td>\n",
       "      <td>63588.0</td>\n",
       "      <td>7</td>\n",
       "      <td>0</td>\n",
       "      <td>1</td>\n",
       "      <td>0</td>\n",
       "      <td>0.0</td>\n",
       "    </tr>\n",
       "  </tbody>\n",
       "</table>\n",
       "</div>"
      ],
      "text/plain": [
       "   Unnamed: 0  SeriousDlqin2yrs  RevolvingUtilizationOfUnsecuredLines  age  \\\n",
       "0           1                 1                              0.766127   45   \n",
       "1           2                 0                              0.957151   40   \n",
       "2           3                 0                              0.658180   38   \n",
       "3           4                 0                              0.233810   30   \n",
       "4           5                 0                              0.907239   49   \n",
       "\n",
       "   NumberOfTime30-59DaysPastDueNotWorse  DebtRatio  MonthlyIncome  \\\n",
       "0                                     2   0.802982         9120.0   \n",
       "1                                     0   0.121876         2600.0   \n",
       "2                                     1   0.085113         3042.0   \n",
       "3                                     0   0.036050         3300.0   \n",
       "4                                     1   0.024926        63588.0   \n",
       "\n",
       "   NumberOfOpenCreditLinesAndLoans  NumberOfTimes90DaysLate  \\\n",
       "0                               13                        0   \n",
       "1                                4                        0   \n",
       "2                                2                        1   \n",
       "3                                5                        0   \n",
       "4                                7                        0   \n",
       "\n",
       "   NumberRealEstateLoansOrLines  NumberOfTime60-89DaysPastDueNotWorse  \\\n",
       "0                             6                                     0   \n",
       "1                             0                                     0   \n",
       "2                             0                                     0   \n",
       "3                             0                                     0   \n",
       "4                             1                                     0   \n",
       "\n",
       "   NumberOfDependents  \n",
       "0                 2.0  \n",
       "1                 1.0  \n",
       "2                 0.0  \n",
       "3                 0.0  \n",
       "4                 0.0  "
      ]
     },
     "execution_count": 2,
     "metadata": {},
     "output_type": "execute_result"
    }
   ],
   "source": [
    "data = pd.read_csv(\"cs-training.csv\",engine = \"python\")\n",
    "data.head()"
   ]
  },
  {
   "cell_type": "markdown",
   "metadata": {},
   "source": [
    "## 查看数据"
   ]
  },
  {
   "cell_type": "code",
   "execution_count": 3,
   "metadata": {
    "ExecuteTime": {
     "end_time": "2022-08-17T15:35:10.149167Z",
     "start_time": "2022-08-17T15:35:10.009252Z"
    }
   },
   "outputs": [
    {
     "data": {
      "text/html": [
       "<div>\n",
       "<style scoped>\n",
       "    .dataframe tbody tr th:only-of-type {\n",
       "        vertical-align: middle;\n",
       "    }\n",
       "\n",
       "    .dataframe tbody tr th {\n",
       "        vertical-align: top;\n",
       "    }\n",
       "\n",
       "    .dataframe thead th {\n",
       "        text-align: right;\n",
       "    }\n",
       "</style>\n",
       "<table border=\"1\" class=\"dataframe\">\n",
       "  <thead>\n",
       "    <tr style=\"text-align: right;\">\n",
       "      <th></th>\n",
       "      <th>Unnamed: 0</th>\n",
       "      <th>SeriousDlqin2yrs</th>\n",
       "      <th>RevolvingUtilizationOfUnsecuredLines</th>\n",
       "      <th>age</th>\n",
       "      <th>NumberOfTime30-59DaysPastDueNotWorse</th>\n",
       "      <th>DebtRatio</th>\n",
       "      <th>MonthlyIncome</th>\n",
       "      <th>NumberOfOpenCreditLinesAndLoans</th>\n",
       "      <th>NumberOfTimes90DaysLate</th>\n",
       "      <th>NumberRealEstateLoansOrLines</th>\n",
       "      <th>NumberOfTime60-89DaysPastDueNotWorse</th>\n",
       "      <th>NumberOfDependents</th>\n",
       "    </tr>\n",
       "  </thead>\n",
       "  <tbody>\n",
       "    <tr>\n",
       "      <th>count</th>\n",
       "      <td>150000.000000</td>\n",
       "      <td>150000.000000</td>\n",
       "      <td>150000.000000</td>\n",
       "      <td>150000.000000</td>\n",
       "      <td>150000.000000</td>\n",
       "      <td>150000.000000</td>\n",
       "      <td>1.202690e+05</td>\n",
       "      <td>150000.000000</td>\n",
       "      <td>150000.000000</td>\n",
       "      <td>150000.000000</td>\n",
       "      <td>150000.000000</td>\n",
       "      <td>146076.000000</td>\n",
       "    </tr>\n",
       "    <tr>\n",
       "      <th>mean</th>\n",
       "      <td>75000.500000</td>\n",
       "      <td>0.066840</td>\n",
       "      <td>6.048438</td>\n",
       "      <td>52.295207</td>\n",
       "      <td>0.421033</td>\n",
       "      <td>353.005076</td>\n",
       "      <td>6.670221e+03</td>\n",
       "      <td>8.452760</td>\n",
       "      <td>0.265973</td>\n",
       "      <td>1.018240</td>\n",
       "      <td>0.240387</td>\n",
       "      <td>0.757222</td>\n",
       "    </tr>\n",
       "    <tr>\n",
       "      <th>std</th>\n",
       "      <td>43301.414527</td>\n",
       "      <td>0.249746</td>\n",
       "      <td>249.755371</td>\n",
       "      <td>14.771866</td>\n",
       "      <td>4.192781</td>\n",
       "      <td>2037.818523</td>\n",
       "      <td>1.438467e+04</td>\n",
       "      <td>5.145951</td>\n",
       "      <td>4.169304</td>\n",
       "      <td>1.129771</td>\n",
       "      <td>4.155179</td>\n",
       "      <td>1.115086</td>\n",
       "    </tr>\n",
       "    <tr>\n",
       "      <th>min</th>\n",
       "      <td>1.000000</td>\n",
       "      <td>0.000000</td>\n",
       "      <td>0.000000</td>\n",
       "      <td>0.000000</td>\n",
       "      <td>0.000000</td>\n",
       "      <td>0.000000</td>\n",
       "      <td>0.000000e+00</td>\n",
       "      <td>0.000000</td>\n",
       "      <td>0.000000</td>\n",
       "      <td>0.000000</td>\n",
       "      <td>0.000000</td>\n",
       "      <td>0.000000</td>\n",
       "    </tr>\n",
       "    <tr>\n",
       "      <th>25%</th>\n",
       "      <td>37500.750000</td>\n",
       "      <td>0.000000</td>\n",
       "      <td>0.029867</td>\n",
       "      <td>41.000000</td>\n",
       "      <td>0.000000</td>\n",
       "      <td>0.175074</td>\n",
       "      <td>3.400000e+03</td>\n",
       "      <td>5.000000</td>\n",
       "      <td>0.000000</td>\n",
       "      <td>0.000000</td>\n",
       "      <td>0.000000</td>\n",
       "      <td>0.000000</td>\n",
       "    </tr>\n",
       "    <tr>\n",
       "      <th>50%</th>\n",
       "      <td>75000.500000</td>\n",
       "      <td>0.000000</td>\n",
       "      <td>0.154181</td>\n",
       "      <td>52.000000</td>\n",
       "      <td>0.000000</td>\n",
       "      <td>0.366508</td>\n",
       "      <td>5.400000e+03</td>\n",
       "      <td>8.000000</td>\n",
       "      <td>0.000000</td>\n",
       "      <td>1.000000</td>\n",
       "      <td>0.000000</td>\n",
       "      <td>0.000000</td>\n",
       "    </tr>\n",
       "    <tr>\n",
       "      <th>75%</th>\n",
       "      <td>112500.250000</td>\n",
       "      <td>0.000000</td>\n",
       "      <td>0.559046</td>\n",
       "      <td>63.000000</td>\n",
       "      <td>0.000000</td>\n",
       "      <td>0.868254</td>\n",
       "      <td>8.249000e+03</td>\n",
       "      <td>11.000000</td>\n",
       "      <td>0.000000</td>\n",
       "      <td>2.000000</td>\n",
       "      <td>0.000000</td>\n",
       "      <td>1.000000</td>\n",
       "    </tr>\n",
       "    <tr>\n",
       "      <th>max</th>\n",
       "      <td>150000.000000</td>\n",
       "      <td>1.000000</td>\n",
       "      <td>50708.000000</td>\n",
       "      <td>109.000000</td>\n",
       "      <td>98.000000</td>\n",
       "      <td>329664.000000</td>\n",
       "      <td>3.008750e+06</td>\n",
       "      <td>58.000000</td>\n",
       "      <td>98.000000</td>\n",
       "      <td>54.000000</td>\n",
       "      <td>98.000000</td>\n",
       "      <td>20.000000</td>\n",
       "    </tr>\n",
       "  </tbody>\n",
       "</table>\n",
       "</div>"
      ],
      "text/plain": [
       "          Unnamed: 0  SeriousDlqin2yrs  RevolvingUtilizationOfUnsecuredLines  \\\n",
       "count  150000.000000     150000.000000                         150000.000000   \n",
       "mean    75000.500000          0.066840                              6.048438   \n",
       "std     43301.414527          0.249746                            249.755371   \n",
       "min         1.000000          0.000000                              0.000000   \n",
       "25%     37500.750000          0.000000                              0.029867   \n",
       "50%     75000.500000          0.000000                              0.154181   \n",
       "75%    112500.250000          0.000000                              0.559046   \n",
       "max    150000.000000          1.000000                          50708.000000   \n",
       "\n",
       "                 age  NumberOfTime30-59DaysPastDueNotWorse      DebtRatio  \\\n",
       "count  150000.000000                         150000.000000  150000.000000   \n",
       "mean       52.295207                              0.421033     353.005076   \n",
       "std        14.771866                              4.192781    2037.818523   \n",
       "min         0.000000                              0.000000       0.000000   \n",
       "25%        41.000000                              0.000000       0.175074   \n",
       "50%        52.000000                              0.000000       0.366508   \n",
       "75%        63.000000                              0.000000       0.868254   \n",
       "max       109.000000                             98.000000  329664.000000   \n",
       "\n",
       "       MonthlyIncome  NumberOfOpenCreditLinesAndLoans  \\\n",
       "count   1.202690e+05                    150000.000000   \n",
       "mean    6.670221e+03                         8.452760   \n",
       "std     1.438467e+04                         5.145951   \n",
       "min     0.000000e+00                         0.000000   \n",
       "25%     3.400000e+03                         5.000000   \n",
       "50%     5.400000e+03                         8.000000   \n",
       "75%     8.249000e+03                        11.000000   \n",
       "max     3.008750e+06                        58.000000   \n",
       "\n",
       "       NumberOfTimes90DaysLate  NumberRealEstateLoansOrLines  \\\n",
       "count            150000.000000                 150000.000000   \n",
       "mean                  0.265973                      1.018240   \n",
       "std                   4.169304                      1.129771   \n",
       "min                   0.000000                      0.000000   \n",
       "25%                   0.000000                      0.000000   \n",
       "50%                   0.000000                      1.000000   \n",
       "75%                   0.000000                      2.000000   \n",
       "max                  98.000000                     54.000000   \n",
       "\n",
       "       NumberOfTime60-89DaysPastDueNotWorse  NumberOfDependents  \n",
       "count                         150000.000000       146076.000000  \n",
       "mean                               0.240387            0.757222  \n",
       "std                                4.155179            1.115086  \n",
       "min                                0.000000            0.000000  \n",
       "25%                                0.000000            0.000000  \n",
       "50%                                0.000000            0.000000  \n",
       "75%                                0.000000            1.000000  \n",
       "max                               98.000000           20.000000  "
      ]
     },
     "execution_count": 3,
     "metadata": {},
     "output_type": "execute_result"
    }
   ],
   "source": [
    "data.describe()"
   ]
  },
  {
   "cell_type": "markdown",
   "metadata": {},
   "source": [
    "## 2.数据预处理"
   ]
  },
  {
   "cell_type": "markdown",
   "metadata": {},
   "source": [
    "### 查看是否有缺失值"
   ]
  },
  {
   "cell_type": "code",
   "execution_count": 4,
   "metadata": {
    "ExecuteTime": {
     "end_time": "2022-08-17T15:35:10.181146Z",
     "start_time": "2022-08-17T15:35:10.153163Z"
    }
   },
   "outputs": [
    {
     "data": {
      "text/plain": [
       "Unnamed: 0                                  0\n",
       "SeriousDlqin2yrs                            0\n",
       "RevolvingUtilizationOfUnsecuredLines        0\n",
       "age                                         0\n",
       "NumberOfTime30-59DaysPastDueNotWorse        0\n",
       "DebtRatio                                   0\n",
       "MonthlyIncome                           29731\n",
       "NumberOfOpenCreditLinesAndLoans             0\n",
       "NumberOfTimes90DaysLate                     0\n",
       "NumberRealEstateLoansOrLines                0\n",
       "NumberOfTime60-89DaysPastDueNotWorse        0\n",
       "NumberOfDependents                       3924\n",
       "dtype: int64"
      ]
     },
     "execution_count": 4,
     "metadata": {},
     "output_type": "execute_result"
    }
   ],
   "source": [
    "data.isnull().sum()"
   ]
  },
  {
   "cell_type": "markdown",
   "metadata": {},
   "source": [
    "### 填充缺失值"
   ]
  },
  {
   "cell_type": "code",
   "execution_count": 5,
   "metadata": {
    "ExecuteTime": {
     "end_time": "2022-08-17T15:35:10.213125Z",
     "start_time": "2022-08-17T15:35:10.184144Z"
    }
   },
   "outputs": [],
   "source": [
    "# 为缺失值MonthlyIncome记录填充值，设置为平均值\n",
    "MonthlyIncome_mean_value = data['MonthlyIncome'].mean()\n",
    "data['MonthlyIncome'] = data['MonthlyIncome'].fillna(MonthlyIncome_mean_value)\n",
    "# 为缺失值NumberOfDependents记录填充值，设置为平均值\n",
    "MonthlyIncome_mean_value = data['NumberOfDependents'].mean()\n",
    "data['NumberOfDependents'] = data['NumberOfDependents'].fillna(MonthlyIncome_mean_value)"
   ]
  },
  {
   "cell_type": "code",
   "execution_count": 6,
   "metadata": {
    "ExecuteTime": {
     "end_time": "2022-08-17T15:35:10.244107Z",
     "start_time": "2022-08-17T15:35:10.217125Z"
    }
   },
   "outputs": [
    {
     "data": {
      "text/plain": [
       "Unnamed: 0                              0\n",
       "SeriousDlqin2yrs                        0\n",
       "RevolvingUtilizationOfUnsecuredLines    0\n",
       "age                                     0\n",
       "NumberOfTime30-59DaysPastDueNotWorse    0\n",
       "DebtRatio                               0\n",
       "MonthlyIncome                           0\n",
       "NumberOfOpenCreditLinesAndLoans         0\n",
       "NumberOfTimes90DaysLate                 0\n",
       "NumberRealEstateLoansOrLines            0\n",
       "NumberOfTime60-89DaysPastDueNotWorse    0\n",
       "NumberOfDependents                      0\n",
       "dtype: int64"
      ]
     },
     "execution_count": 6,
     "metadata": {},
     "output_type": "execute_result"
    }
   ],
   "source": [
    "data.isnull().sum()"
   ]
  },
  {
   "cell_type": "markdown",
   "metadata": {},
   "source": [
    "### 异常值处理"
   ]
  },
  {
   "cell_type": "markdown",
   "metadata": {},
   "source": [
    "#### 年龄"
   ]
  },
  {
   "cell_type": "code",
   "execution_count": 7,
   "metadata": {
    "ExecuteTime": {
     "end_time": "2022-08-17T15:35:10.275088Z",
     "start_time": "2022-08-17T15:35:10.249106Z"
    }
   },
   "outputs": [
    {
     "data": {
      "text/plain": [
       "49     3837\n",
       "48     3806\n",
       "50     3753\n",
       "63     3719\n",
       "47     3719\n",
       "       ... \n",
       "101       3\n",
       "109       2\n",
       "107       1\n",
       "105       1\n",
       "0         1\n",
       "Name: age, Length: 86, dtype: int64"
      ]
     },
     "execution_count": 7,
     "metadata": {},
     "output_type": "execute_result"
    }
   ],
   "source": [
    "age = data['age'].value_counts()\n",
    "age"
   ]
  },
  {
   "cell_type": "code",
   "execution_count": 8,
   "metadata": {
    "ExecuteTime": {
     "end_time": "2022-08-17T15:35:13.191881Z",
     "start_time": "2022-08-17T15:35:10.282084Z"
    }
   },
   "outputs": [
    {
     "data": {
      "text/plain": [
       "Text(0.5, 1.0, 'age')"
      ]
     },
     "execution_count": 8,
     "metadata": {},
     "output_type": "execute_result"
    },
    {
     "data": {
      "image/png": "[encoded data removed]",
      "text/plain": [
       "<Figure size 864x432 with 1 Axes>"
      ]
     },
     "metadata": {
      "needs_background": "light"
     },
     "output_type": "display_data"
    }
   ],
   "source": [
    "age.sort_index().plot.bar(figsize=(12,6), alpha=0.8, color=color[1])\n",
    "plt.ylabel('count', fontsize=12)\n",
    "plt.title('age', fontsize=18)"
   ]
  },
  {
   "cell_type": "code",
   "execution_count": 9,
   "metadata": {
    "ExecuteTime": {
     "end_time": "2022-08-17T15:35:13.334803Z",
     "start_time": "2022-08-17T15:35:13.195879Z"
    }
   },
   "outputs": [],
   "source": [
    "data = data[data['age']>18]\n",
    "data = data[data['age']<65]"
   ]
  },
  {
   "cell_type": "code",
   "execution_count": 10,
   "metadata": {
    "ExecuteTime": {
     "end_time": "2022-08-17T15:35:13.507689Z",
     "start_time": "2022-08-17T15:35:13.338792Z"
    }
   },
   "outputs": [
    {
     "data": {
      "text/html": [
       "<div>\n",
       "<style scoped>\n",
       "    .dataframe tbody tr th:only-of-type {\n",
       "        vertical-align: middle;\n",
       "    }\n",
       "\n",
       "    .dataframe tbody tr th {\n",
       "        vertical-align: top;\n",
       "    }\n",
       "\n",
       "    .dataframe thead th {\n",
       "        text-align: right;\n",
       "    }\n",
       "</style>\n",
       "<table border=\"1\" class=\"dataframe\">\n",
       "  <thead>\n",
       "    <tr style=\"text-align: right;\">\n",
       "      <th></th>\n",
       "      <th>Unnamed: 0</th>\n",
       "      <th>SeriousDlqin2yrs</th>\n",
       "      <th>RevolvingUtilizationOfUnsecuredLines</th>\n",
       "      <th>age</th>\n",
       "      <th>NumberOfTime30-59DaysPastDueNotWorse</th>\n",
       "      <th>DebtRatio</th>\n",
       "      <th>MonthlyIncome</th>\n",
       "      <th>NumberOfOpenCreditLinesAndLoans</th>\n",
       "      <th>NumberOfTimes90DaysLate</th>\n",
       "      <th>NumberRealEstateLoansOrLines</th>\n",
       "      <th>NumberOfTime60-89DaysPastDueNotWorse</th>\n",
       "      <th>NumberOfDependents</th>\n",
       "    </tr>\n",
       "  </thead>\n",
       "  <tbody>\n",
       "    <tr>\n",
       "      <th>count</th>\n",
       "      <td>118806.000000</td>\n",
       "      <td>118806.000000</td>\n",
       "      <td>118806.000000</td>\n",
       "      <td>118806.000000</td>\n",
       "      <td>118806.000000</td>\n",
       "      <td>118806.000000</td>\n",
       "      <td>1.188060e+05</td>\n",
       "      <td>118806.000000</td>\n",
       "      <td>118806.000000</td>\n",
       "      <td>118806.000000</td>\n",
       "      <td>118806.000000</td>\n",
       "      <td>118806.000000</td>\n",
       "    </tr>\n",
       "    <tr>\n",
       "      <th>mean</th>\n",
       "      <td>74948.116846</td>\n",
       "      <td>0.077808</td>\n",
       "      <td>6.611791</td>\n",
       "      <td>46.796281</td>\n",
       "      <td>0.491541</td>\n",
       "      <td>354.635891</td>\n",
       "      <td>6.743627e+03</td>\n",
       "      <td>8.428303</td>\n",
       "      <td>0.322004</td>\n",
       "      <td>1.072631</td>\n",
       "      <td>0.290945</td>\n",
       "      <td>0.892752</td>\n",
       "    </tr>\n",
       "    <tr>\n",
       "      <th>std</th>\n",
       "      <td>43297.418672</td>\n",
       "      <td>0.267870</td>\n",
       "      <td>271.517023</td>\n",
       "      <td>10.856796</td>\n",
       "      <td>4.641292</td>\n",
       "      <td>1678.530327</td>\n",
       "      <td>1.296473e+04</td>\n",
       "      <td>5.110686</td>\n",
       "      <td>4.620794</td>\n",
       "      <td>1.141237</td>\n",
       "      <td>4.605606</td>\n",
       "      <td>1.171039</td>\n",
       "    </tr>\n",
       "    <tr>\n",
       "      <th>min</th>\n",
       "      <td>1.000000</td>\n",
       "      <td>0.000000</td>\n",
       "      <td>0.000000</td>\n",
       "      <td>21.000000</td>\n",
       "      <td>0.000000</td>\n",
       "      <td>0.000000</td>\n",
       "      <td>0.000000e+00</td>\n",
       "      <td>0.000000</td>\n",
       "      <td>0.000000</td>\n",
       "      <td>0.000000</td>\n",
       "      <td>0.000000</td>\n",
       "      <td>0.000000</td>\n",
       "    </tr>\n",
       "    <tr>\n",
       "      <th>25%</th>\n",
       "      <td>37487.250000</td>\n",
       "      <td>0.000000</td>\n",
       "      <td>0.042889</td>\n",
       "      <td>39.000000</td>\n",
       "      <td>0.000000</td>\n",
       "      <td>0.192643</td>\n",
       "      <td>3.905000e+03</td>\n",
       "      <td>5.000000</td>\n",
       "      <td>0.000000</td>\n",
       "      <td>0.000000</td>\n",
       "      <td>0.000000</td>\n",
       "      <td>0.000000</td>\n",
       "    </tr>\n",
       "    <tr>\n",
       "      <th>50%</th>\n",
       "      <td>74916.000000</td>\n",
       "      <td>0.000000</td>\n",
       "      <td>0.210758</td>\n",
       "      <td>48.000000</td>\n",
       "      <td>0.000000</td>\n",
       "      <td>0.372083</td>\n",
       "      <td>6.500000e+03</td>\n",
       "      <td>8.000000</td>\n",
       "      <td>0.000000</td>\n",
       "      <td>1.000000</td>\n",
       "      <td>0.000000</td>\n",
       "      <td>0.000000</td>\n",
       "    </tr>\n",
       "    <tr>\n",
       "      <th>75%</th>\n",
       "      <td>112437.750000</td>\n",
       "      <td>0.000000</td>\n",
       "      <td>0.646084</td>\n",
       "      <td>56.000000</td>\n",
       "      <td>0.000000</td>\n",
       "      <td>0.774665</td>\n",
       "      <td>7.583000e+03</td>\n",
       "      <td>11.000000</td>\n",
       "      <td>0.000000</td>\n",
       "      <td>2.000000</td>\n",
       "      <td>0.000000</td>\n",
       "      <td>2.000000</td>\n",
       "    </tr>\n",
       "    <tr>\n",
       "      <th>max</th>\n",
       "      <td>150000.000000</td>\n",
       "      <td>1.000000</td>\n",
       "      <td>50708.000000</td>\n",
       "      <td>64.000000</td>\n",
       "      <td>98.000000</td>\n",
       "      <td>307001.000000</td>\n",
       "      <td>3.008750e+06</td>\n",
       "      <td>58.000000</td>\n",
       "      <td>98.000000</td>\n",
       "      <td>54.000000</td>\n",
       "      <td>98.000000</td>\n",
       "      <td>20.000000</td>\n",
       "    </tr>\n",
       "  </tbody>\n",
       "</table>\n",
       "</div>"
      ],
      "text/plain": [
       "          Unnamed: 0  SeriousDlqin2yrs  RevolvingUtilizationOfUnsecuredLines  \\\n",
       "count  118806.000000     118806.000000                         118806.000000   \n",
       "mean    74948.116846          0.077808                              6.611791   \n",
       "std     43297.418672          0.267870                            271.517023   \n",
       "min         1.000000          0.000000                              0.000000   \n",
       "25%     37487.250000          0.000000                              0.042889   \n",
       "50%     74916.000000          0.000000                              0.210758   \n",
       "75%    112437.750000          0.000000                              0.646084   \n",
       "max    150000.000000          1.000000                          50708.000000   \n",
       "\n",
       "                 age  NumberOfTime30-59DaysPastDueNotWorse      DebtRatio  \\\n",
       "count  118806.000000                         118806.000000  118806.000000   \n",
       "mean       46.796281                              0.491541     354.635891   \n",
       "std        10.856796                              4.641292    1678.530327   \n",
       "min        21.000000                              0.000000       0.000000   \n",
       "25%        39.000000                              0.000000       0.192643   \n",
       "50%        48.000000                              0.000000       0.372083   \n",
       "75%        56.000000                              0.000000       0.774665   \n",
       "max        64.000000                             98.000000  307001.000000   \n",
       "\n",
       "       MonthlyIncome  NumberOfOpenCreditLinesAndLoans  \\\n",
       "count   1.188060e+05                    118806.000000   \n",
       "mean    6.743627e+03                         8.428303   \n",
       "std     1.296473e+04                         5.110686   \n",
       "min     0.000000e+00                         0.000000   \n",
       "25%     3.905000e+03                         5.000000   \n",
       "50%     6.500000e+03                         8.000000   \n",
       "75%     7.583000e+03                        11.000000   \n",
       "max     3.008750e+06                        58.000000   \n",
       "\n",
       "       NumberOfTimes90DaysLate  NumberRealEstateLoansOrLines  \\\n",
       "count            118806.000000                 118806.000000   \n",
       "mean                  0.322004                      1.072631   \n",
       "std                   4.620794                      1.141237   \n",
       "min                   0.000000                      0.000000   \n",
       "25%                   0.000000                      0.000000   \n",
       "50%                   0.000000                      1.000000   \n",
       "75%                   0.000000                      2.000000   \n",
       "max                  98.000000                     54.000000   \n",
       "\n",
       "       NumberOfTime60-89DaysPastDueNotWorse  NumberOfDependents  \n",
       "count                         118806.000000       118806.000000  \n",
       "mean                               0.290945            0.892752  \n",
       "std                                4.605606            1.171039  \n",
       "min                                0.000000            0.000000  \n",
       "25%                                0.000000            0.000000  \n",
       "50%                                0.000000            0.000000  \n",
       "75%                                0.000000            2.000000  \n",
       "max                               98.000000           20.000000  "
      ]
     },
     "execution_count": 10,
     "metadata": {},
     "output_type": "execute_result"
    }
   ],
   "source": [
    "data.describe()"
   ]
  },
  {
   "cell_type": "markdown",
   "metadata": {},
   "source": [
    "#### RevolvingUtilizationOfUnsecuredLines（可用额度比值）及DebtRatio（负债率）"
   ]
  },
  {
   "cell_type": "code",
   "execution_count": 11,
   "metadata": {
    "ExecuteTime": {
     "end_time": "2022-08-17T15:35:13.555657Z",
     "start_time": "2022-08-17T15:35:13.510687Z"
    }
   },
   "outputs": [],
   "source": [
    "data = data[data['RevolvingUtilizationOfUnsecuredLines']>=0]\n",
    "data = data[data['RevolvingUtilizationOfUnsecuredLines']<=1]"
   ]
  },
  {
   "cell_type": "code",
   "execution_count": 12,
   "metadata": {
    "ExecuteTime": {
     "end_time": "2022-08-17T15:35:13.699568Z",
     "start_time": "2022-08-17T15:35:13.558655Z"
    }
   },
   "outputs": [
    {
     "data": {
      "text/html": [
       "<div>\n",
       "<style scoped>\n",
       "    .dataframe tbody tr th:only-of-type {\n",
       "        vertical-align: middle;\n",
       "    }\n",
       "\n",
       "    .dataframe tbody tr th {\n",
       "        vertical-align: top;\n",
       "    }\n",
       "\n",
       "    .dataframe thead th {\n",
       "        text-align: right;\n",
       "    }\n",
       "</style>\n",
       "<table border=\"1\" class=\"dataframe\">\n",
       "  <thead>\n",
       "    <tr style=\"text-align: right;\">\n",
       "      <th></th>\n",
       "      <th>Unnamed: 0</th>\n",
       "      <th>SeriousDlqin2yrs</th>\n",
       "      <th>RevolvingUtilizationOfUnsecuredLines</th>\n",
       "      <th>age</th>\n",
       "      <th>NumberOfTime30-59DaysPastDueNotWorse</th>\n",
       "      <th>DebtRatio</th>\n",
       "      <th>MonthlyIncome</th>\n",
       "      <th>NumberOfOpenCreditLinesAndLoans</th>\n",
       "      <th>NumberOfTimes90DaysLate</th>\n",
       "      <th>NumberRealEstateLoansOrLines</th>\n",
       "      <th>NumberOfTime60-89DaysPastDueNotWorse</th>\n",
       "      <th>NumberOfDependents</th>\n",
       "    </tr>\n",
       "  </thead>\n",
       "  <tbody>\n",
       "    <tr>\n",
       "      <th>count</th>\n",
       "      <td>115699.000000</td>\n",
       "      <td>115699.000000</td>\n",
       "      <td>115699.000000</td>\n",
       "      <td>115699.000000</td>\n",
       "      <td>115699.000000</td>\n",
       "      <td>115699.000000</td>\n",
       "      <td>1.156990e+05</td>\n",
       "      <td>115699.000000</td>\n",
       "      <td>115699.000000</td>\n",
       "      <td>115699.000000</td>\n",
       "      <td>115699.000000</td>\n",
       "      <td>115699.000000</td>\n",
       "    </tr>\n",
       "    <tr>\n",
       "      <th>mean</th>\n",
       "      <td>74938.536980</td>\n",
       "      <td>0.069698</td>\n",
       "      <td>0.339161</td>\n",
       "      <td>46.919628</td>\n",
       "      <td>0.477022</td>\n",
       "      <td>357.931703</td>\n",
       "      <td>6.778134e+03</td>\n",
       "      <td>8.484585</td>\n",
       "      <td>0.313028</td>\n",
       "      <td>1.083423</td>\n",
       "      <td>0.286891</td>\n",
       "      <td>0.891007</td>\n",
       "    </tr>\n",
       "    <tr>\n",
       "      <th>std</th>\n",
       "      <td>43310.523779</td>\n",
       "      <td>0.254639</td>\n",
       "      <td>0.345671</td>\n",
       "      <td>10.832708</td>\n",
       "      <td>4.697111</td>\n",
       "      <td>1694.029909</td>\n",
       "      <td>1.311332e+04</td>\n",
       "      <td>5.125807</td>\n",
       "      <td>4.676872</td>\n",
       "      <td>1.144018</td>\n",
       "      <td>4.664848</td>\n",
       "      <td>1.169994</td>\n",
       "    </tr>\n",
       "    <tr>\n",
       "      <th>min</th>\n",
       "      <td>1.000000</td>\n",
       "      <td>0.000000</td>\n",
       "      <td>0.000000</td>\n",
       "      <td>21.000000</td>\n",
       "      <td>0.000000</td>\n",
       "      <td>0.000000</td>\n",
       "      <td>0.000000e+00</td>\n",
       "      <td>0.000000</td>\n",
       "      <td>0.000000</td>\n",
       "      <td>0.000000</td>\n",
       "      <td>0.000000</td>\n",
       "      <td>0.000000</td>\n",
       "    </tr>\n",
       "    <tr>\n",
       "      <th>25%</th>\n",
       "      <td>37470.000000</td>\n",
       "      <td>0.000000</td>\n",
       "      <td>0.040768</td>\n",
       "      <td>39.000000</td>\n",
       "      <td>0.000000</td>\n",
       "      <td>0.193118</td>\n",
       "      <td>3.964500e+03</td>\n",
       "      <td>5.000000</td>\n",
       "      <td>0.000000</td>\n",
       "      <td>0.000000</td>\n",
       "      <td>0.000000</td>\n",
       "      <td>0.000000</td>\n",
       "    </tr>\n",
       "    <tr>\n",
       "      <th>50%</th>\n",
       "      <td>74883.000000</td>\n",
       "      <td>0.000000</td>\n",
       "      <td>0.196373</td>\n",
       "      <td>48.000000</td>\n",
       "      <td>0.000000</td>\n",
       "      <td>0.372260</td>\n",
       "      <td>6.566000e+03</td>\n",
       "      <td>8.000000</td>\n",
       "      <td>0.000000</td>\n",
       "      <td>1.000000</td>\n",
       "      <td>0.000000</td>\n",
       "      <td>0.000000</td>\n",
       "    </tr>\n",
       "    <tr>\n",
       "      <th>75%</th>\n",
       "      <td>112457.500000</td>\n",
       "      <td>0.000000</td>\n",
       "      <td>0.597141</td>\n",
       "      <td>56.000000</td>\n",
       "      <td>0.000000</td>\n",
       "      <td>0.774906</td>\n",
       "      <td>7.650000e+03</td>\n",
       "      <td>11.000000</td>\n",
       "      <td>0.000000</td>\n",
       "      <td>2.000000</td>\n",
       "      <td>0.000000</td>\n",
       "      <td>2.000000</td>\n",
       "    </tr>\n",
       "    <tr>\n",
       "      <th>max</th>\n",
       "      <td>150000.000000</td>\n",
       "      <td>1.000000</td>\n",
       "      <td>1.000000</td>\n",
       "      <td>64.000000</td>\n",
       "      <td>98.000000</td>\n",
       "      <td>307001.000000</td>\n",
       "      <td>3.008750e+06</td>\n",
       "      <td>58.000000</td>\n",
       "      <td>98.000000</td>\n",
       "      <td>54.000000</td>\n",
       "      <td>98.000000</td>\n",
       "      <td>20.000000</td>\n",
       "    </tr>\n",
       "  </tbody>\n",
       "</table>\n",
       "</div>"
      ],
      "text/plain": [
       "          Unnamed: 0  SeriousDlqin2yrs  RevolvingUtilizationOfUnsecuredLines  \\\n",
       "count  115699.000000     115699.000000                         115699.000000   \n",
       "mean    74938.536980          0.069698                              0.339161   \n",
       "std     43310.523779          0.254639                              0.345671   \n",
       "min         1.000000          0.000000                              0.000000   \n",
       "25%     37470.000000          0.000000                              0.040768   \n",
       "50%     74883.000000          0.000000                              0.196373   \n",
       "75%    112457.500000          0.000000                              0.597141   \n",
       "max    150000.000000          1.000000                              1.000000   \n",
       "\n",
       "                 age  NumberOfTime30-59DaysPastDueNotWorse      DebtRatio  \\\n",
       "count  115699.000000                         115699.000000  115699.000000   \n",
       "mean       46.919628                              0.477022     357.931703   \n",
       "std        10.832708                              4.697111    1694.029909   \n",
       "min        21.000000                              0.000000       0.000000   \n",
       "25%        39.000000                              0.000000       0.193118   \n",
       "50%        48.000000                              0.000000       0.372260   \n",
       "75%        56.000000                              0.000000       0.774906   \n",
       "max        64.000000                             98.000000  307001.000000   \n",
       "\n",
       "       MonthlyIncome  NumberOfOpenCreditLinesAndLoans  \\\n",
       "count   1.156990e+05                    115699.000000   \n",
       "mean    6.778134e+03                         8.484585   \n",
       "std     1.311332e+04                         5.125807   \n",
       "min     0.000000e+00                         0.000000   \n",
       "25%     3.964500e+03                         5.000000   \n",
       "50%     6.566000e+03                         8.000000   \n",
       "75%     7.650000e+03                        11.000000   \n",
       "max     3.008750e+06                        58.000000   \n",
       "\n",
       "       NumberOfTimes90DaysLate  NumberRealEstateLoansOrLines  \\\n",
       "count            115699.000000                 115699.000000   \n",
       "mean                  0.313028                      1.083423   \n",
       "std                   4.676872                      1.144018   \n",
       "min                   0.000000                      0.000000   \n",
       "25%                   0.000000                      0.000000   \n",
       "50%                   0.000000                      1.000000   \n",
       "75%                   0.000000                      2.000000   \n",
       "max                  98.000000                     54.000000   \n",
       "\n",
       "       NumberOfTime60-89DaysPastDueNotWorse  NumberOfDependents  \n",
       "count                         115699.000000       115699.000000  \n",
       "mean                               0.286891            0.891007  \n",
       "std                                4.664848            1.169994  \n",
       "min                                0.000000            0.000000  \n",
       "25%                                0.000000            0.000000  \n",
       "50%                                0.000000            0.000000  \n",
       "75%                                0.000000            2.000000  \n",
       "max                               98.000000           20.000000  "
      ]
     },
     "execution_count": 12,
     "metadata": {},
     "output_type": "execute_result"
    }
   ],
   "source": [
    "data.describe()"
   ]
  },
  {
   "cell_type": "code",
   "execution_count": 13,
   "metadata": {
    "ExecuteTime": {
     "end_time": "2022-08-17T15:35:13.747537Z",
     "start_time": "2022-08-17T15:35:13.702569Z"
    }
   },
   "outputs": [],
   "source": [
    "data = data[data['DebtRatio']>=0]\n",
    "data = data[data['DebtRatio']<=1]"
   ]
  },
  {
   "cell_type": "code",
   "execution_count": 14,
   "metadata": {
    "ExecuteTime": {
     "end_time": "2022-08-17T15:35:13.859470Z",
     "start_time": "2022-08-17T15:35:13.750537Z"
    }
   },
   "outputs": [
    {
     "data": {
      "text/html": [
       "<div>\n",
       "<style scoped>\n",
       "    .dataframe tbody tr th:only-of-type {\n",
       "        vertical-align: middle;\n",
       "    }\n",
       "\n",
       "    .dataframe tbody tr th {\n",
       "        vertical-align: top;\n",
       "    }\n",
       "\n",
       "    .dataframe thead th {\n",
       "        text-align: right;\n",
       "    }\n",
       "</style>\n",
       "<table border=\"1\" class=\"dataframe\">\n",
       "  <thead>\n",
       "    <tr style=\"text-align: right;\">\n",
       "      <th></th>\n",
       "      <th>Unnamed: 0</th>\n",
       "      <th>SeriousDlqin2yrs</th>\n",
       "      <th>RevolvingUtilizationOfUnsecuredLines</th>\n",
       "      <th>age</th>\n",
       "      <th>NumberOfTime30-59DaysPastDueNotWorse</th>\n",
       "      <th>DebtRatio</th>\n",
       "      <th>MonthlyIncome</th>\n",
       "      <th>NumberOfOpenCreditLinesAndLoans</th>\n",
       "      <th>NumberOfTimes90DaysLate</th>\n",
       "      <th>NumberRealEstateLoansOrLines</th>\n",
       "      <th>NumberOfTime60-89DaysPastDueNotWorse</th>\n",
       "      <th>NumberOfDependents</th>\n",
       "    </tr>\n",
       "  </thead>\n",
       "  <tbody>\n",
       "    <tr>\n",
       "      <th>count</th>\n",
       "      <td>90541.000000</td>\n",
       "      <td>90541.000000</td>\n",
       "      <td>90541.000000</td>\n",
       "      <td>90541.000000</td>\n",
       "      <td>90541.000000</td>\n",
       "      <td>90541.000000</td>\n",
       "      <td>9.054100e+04</td>\n",
       "      <td>90541.000000</td>\n",
       "      <td>90541.000000</td>\n",
       "      <td>90541.000000</td>\n",
       "      <td>90541.000000</td>\n",
       "      <td>90541.000000</td>\n",
       "    </tr>\n",
       "    <tr>\n",
       "      <th>mean</th>\n",
       "      <td>74898.156393</td>\n",
       "      <td>0.069063</td>\n",
       "      <td>0.345327</td>\n",
       "      <td>46.492197</td>\n",
       "      <td>0.513171</td>\n",
       "      <td>0.318820</td>\n",
       "      <td>7.094185e+03</td>\n",
       "      <td>8.561657</td>\n",
       "      <td>0.343999</td>\n",
       "      <td>1.053633</td>\n",
       "      <td>0.319226</td>\n",
       "      <td>0.981680</td>\n",
       "    </tr>\n",
       "    <tr>\n",
       "      <th>std</th>\n",
       "      <td>43323.877287</td>\n",
       "      <td>0.253562</td>\n",
       "      <td>0.344765</td>\n",
       "      <td>10.815065</td>\n",
       "      <td>5.020323</td>\n",
       "      <td>0.221755</td>\n",
       "      <td>1.475746e+04</td>\n",
       "      <td>5.120327</td>\n",
       "      <td>5.001601</td>\n",
       "      <td>1.093606</td>\n",
       "      <td>4.991225</td>\n",
       "      <td>1.200581</td>\n",
       "    </tr>\n",
       "    <tr>\n",
       "      <th>min</th>\n",
       "      <td>1.000000</td>\n",
       "      <td>0.000000</td>\n",
       "      <td>0.000000</td>\n",
       "      <td>21.000000</td>\n",
       "      <td>0.000000</td>\n",
       "      <td>0.000000</td>\n",
       "      <td>0.000000e+00</td>\n",
       "      <td>0.000000</td>\n",
       "      <td>0.000000</td>\n",
       "      <td>0.000000</td>\n",
       "      <td>0.000000</td>\n",
       "      <td>0.000000</td>\n",
       "    </tr>\n",
       "    <tr>\n",
       "      <th>25%</th>\n",
       "      <td>37520.000000</td>\n",
       "      <td>0.000000</td>\n",
       "      <td>0.043866</td>\n",
       "      <td>38.000000</td>\n",
       "      <td>0.000000</td>\n",
       "      <td>0.151166</td>\n",
       "      <td>3.797000e+03</td>\n",
       "      <td>5.000000</td>\n",
       "      <td>0.000000</td>\n",
       "      <td>0.000000</td>\n",
       "      <td>0.000000</td>\n",
       "      <td>0.000000</td>\n",
       "    </tr>\n",
       "    <tr>\n",
       "      <th>50%</th>\n",
       "      <td>74773.000000</td>\n",
       "      <td>0.000000</td>\n",
       "      <td>0.209535</td>\n",
       "      <td>47.000000</td>\n",
       "      <td>0.000000</td>\n",
       "      <td>0.292353</td>\n",
       "      <td>5.833000e+03</td>\n",
       "      <td>8.000000</td>\n",
       "      <td>0.000000</td>\n",
       "      <td>1.000000</td>\n",
       "      <td>0.000000</td>\n",
       "      <td>1.000000</td>\n",
       "    </tr>\n",
       "    <tr>\n",
       "      <th>75%</th>\n",
       "      <td>112461.000000</td>\n",
       "      <td>0.000000</td>\n",
       "      <td>0.606324</td>\n",
       "      <td>55.000000</td>\n",
       "      <td>0.000000</td>\n",
       "      <td>0.451034</td>\n",
       "      <td>8.573000e+03</td>\n",
       "      <td>11.000000</td>\n",
       "      <td>0.000000</td>\n",
       "      <td>2.000000</td>\n",
       "      <td>0.000000</td>\n",
       "      <td>2.000000</td>\n",
       "    </tr>\n",
       "    <tr>\n",
       "      <th>max</th>\n",
       "      <td>150000.000000</td>\n",
       "      <td>1.000000</td>\n",
       "      <td>1.000000</td>\n",
       "      <td>64.000000</td>\n",
       "      <td>98.000000</td>\n",
       "      <td>1.000000</td>\n",
       "      <td>3.008750e+06</td>\n",
       "      <td>57.000000</td>\n",
       "      <td>98.000000</td>\n",
       "      <td>29.000000</td>\n",
       "      <td>98.000000</td>\n",
       "      <td>20.000000</td>\n",
       "    </tr>\n",
       "  </tbody>\n",
       "</table>\n",
       "</div>"
      ],
      "text/plain": [
       "          Unnamed: 0  SeriousDlqin2yrs  RevolvingUtilizationOfUnsecuredLines  \\\n",
       "count   90541.000000      90541.000000                          90541.000000   \n",
       "mean    74898.156393          0.069063                              0.345327   \n",
       "std     43323.877287          0.253562                              0.344765   \n",
       "min         1.000000          0.000000                              0.000000   \n",
       "25%     37520.000000          0.000000                              0.043866   \n",
       "50%     74773.000000          0.000000                              0.209535   \n",
       "75%    112461.000000          0.000000                              0.606324   \n",
       "max    150000.000000          1.000000                              1.000000   \n",
       "\n",
       "                age  NumberOfTime30-59DaysPastDueNotWorse     DebtRatio  \\\n",
       "count  90541.000000                          90541.000000  90541.000000   \n",
       "mean      46.492197                              0.513171      0.318820   \n",
       "std       10.815065                              5.020323      0.221755   \n",
       "min       21.000000                              0.000000      0.000000   \n",
       "25%       38.000000                              0.000000      0.151166   \n",
       "50%       47.000000                              0.000000      0.292353   \n",
       "75%       55.000000                              0.000000      0.451034   \n",
       "max       64.000000                             98.000000      1.000000   \n",
       "\n",
       "       MonthlyIncome  NumberOfOpenCreditLinesAndLoans  \\\n",
       "count   9.054100e+04                     90541.000000   \n",
       "mean    7.094185e+03                         8.561657   \n",
       "std     1.475746e+04                         5.120327   \n",
       "min     0.000000e+00                         0.000000   \n",
       "25%     3.797000e+03                         5.000000   \n",
       "50%     5.833000e+03                         8.000000   \n",
       "75%     8.573000e+03                        11.000000   \n",
       "max     3.008750e+06                        57.000000   \n",
       "\n",
       "       NumberOfTimes90DaysLate  NumberRealEstateLoansOrLines  \\\n",
       "count             90541.000000                  90541.000000   \n",
       "mean                  0.343999                      1.053633   \n",
       "std                   5.001601                      1.093606   \n",
       "min                   0.000000                      0.000000   \n",
       "25%                   0.000000                      0.000000   \n",
       "50%                   0.000000                      1.000000   \n",
       "75%                   0.000000                      2.000000   \n",
       "max                  98.000000                     29.000000   \n",
       "\n",
       "       NumberOfTime60-89DaysPastDueNotWorse  NumberOfDependents  \n",
       "count                          90541.000000        90541.000000  \n",
       "mean                               0.319226            0.981680  \n",
       "std                                4.991225            1.200581  \n",
       "min                                0.000000            0.000000  \n",
       "25%                                0.000000            0.000000  \n",
       "50%                                0.000000            1.000000  \n",
       "75%                                0.000000            2.000000  \n",
       "max                               98.000000           20.000000  "
      ]
     },
     "execution_count": 14,
     "metadata": {},
     "output_type": "execute_result"
    }
   ],
   "source": [
    "data.describe()"
   ]
  },
  {
   "cell_type": "markdown",
   "metadata": {},
   "source": [
    "#### NumberOfTime30-59DaysPastDueNotWorse（逾期30-59天笔数）、NumberOfTimes90DaysLate（逾期90天笔数）、NumberOfTime60-89DaysPastDueNotWorse（逾期60-89天笔数），箱型图分析¶"
   ]
  },
  {
   "cell_type": "code",
   "execution_count": 15,
   "metadata": {
    "ExecuteTime": {
     "end_time": "2022-08-17T15:35:14.082331Z",
     "start_time": "2022-08-17T15:35:13.862467Z"
    }
   },
   "outputs": [
    {
     "data": {
      "text/plain": [
       "[Text(1, 0, 'NumberOfTime30-59DaysPastDueNotWorse')]"
      ]
     },
     "execution_count": 15,
     "metadata": {},
     "output_type": "execute_result"
    },
    {
     "data": {
      "image/png": "[encoded data removed]",
      "text/plain": [
       "<Figure size 432x288 with 1 Axes>"
      ]
     },
     "metadata": {
      "needs_background": "light"
     },
     "output_type": "display_data"
    }
   ],
   "source": [
    "fig = plt.figure()\n",
    "x1 = data['NumberOfTime30-59DaysPastDueNotWorse']\n",
    "# 绘制箱线图\n",
    "ax = fig.add_subplot(111)   #1*1网格，第一子图\n",
    "ax.boxplot([x1])\n",
    "ax.set_xticklabels(['NumberOfTime30-59DaysPastDueNotWorse'])"
   ]
  },
  {
   "cell_type": "code",
   "execution_count": 16,
   "metadata": {
    "ExecuteTime": {
     "end_time": "2022-08-17T15:35:14.289205Z",
     "start_time": "2022-08-17T15:35:14.085330Z"
    }
   },
   "outputs": [
    {
     "data": {
      "text/plain": [
       "[Text(1, 0, 'NumberOfTimes90DaysLate')]"
      ]
     },
     "execution_count": 16,
     "metadata": {},
     "output_type": "execute_result"
    },
    {
     "data": {
      "image/png": "[encoded data removed]",
      "text/plain": [
       "<Figure size 432x288 with 1 Axes>"
      ]
     },
     "metadata": {
      "needs_background": "light"
     },
     "output_type": "display_data"
    }
   ],
   "source": [
    "fig = plt.figure()\n",
    "x2 = data['NumberOfTimes90DaysLate']\n",
    "ax = fig.add_subplot(111)\n",
    "ax.boxplot([x2])\n",
    "ax.set_xticklabels(['NumberOfTimes90DaysLate'])"
   ]
  },
  {
   "cell_type": "code",
   "execution_count": 17,
   "metadata": {
    "ExecuteTime": {
     "end_time": "2022-08-17T15:35:14.497075Z",
     "start_time": "2022-08-17T15:35:14.292203Z"
    }
   },
   "outputs": [
    {
     "data": {
      "text/plain": [
       "[Text(1, 0, 'NumberOfTime60-89DaysPastDueNotWorse')]"
      ]
     },
     "execution_count": 17,
     "metadata": {},
     "output_type": "execute_result"
    },
    {
     "data": {
      "image/png": "[encoded data removed]",
      "text/plain": [
       "<Figure size 432x288 with 1 Axes>"
      ]
     },
     "metadata": {
      "needs_background": "light"
     },
     "output_type": "display_data"
    }
   ],
   "source": [
    "fig = plt.figure()\n",
    "x3 = data['NumberOfTime60-89DaysPastDueNotWorse']\n",
    "ax = fig.add_subplot(111)\n",
    "ax.boxplot([x3])\n",
    "ax.set_xticklabels(['NumberOfTime60-89DaysPastDueNotWorse'])"
   ]
  },
  {
   "cell_type": "code",
   "execution_count": 18,
   "metadata": {
    "ExecuteTime": {
     "end_time": "2022-08-17T15:35:14.545046Z",
     "start_time": "2022-08-17T15:35:14.500075Z"
    }
   },
   "outputs": [],
   "source": [
    "data = data[data['NumberOfTime30-59DaysPastDueNotWorse'] <= 20]\n",
    "data = data[data['NumberOfTimes90DaysLate'] <= 20]\n",
    "data = data[data['NumberOfTime60-89DaysPastDueNotWorse'] <= 20]"
   ]
  },
  {
   "cell_type": "code",
   "execution_count": 19,
   "metadata": {
    "ExecuteTime": {
     "end_time": "2022-08-17T15:35:14.639988Z",
     "start_time": "2022-08-17T15:35:14.548046Z"
    }
   },
   "outputs": [
    {
     "data": {
      "text/html": [
       "<div>\n",
       "<style scoped>\n",
       "    .dataframe tbody tr th:only-of-type {\n",
       "        vertical-align: middle;\n",
       "    }\n",
       "\n",
       "    .dataframe tbody tr th {\n",
       "        vertical-align: top;\n",
       "    }\n",
       "\n",
       "    .dataframe thead th {\n",
       "        text-align: right;\n",
       "    }\n",
       "</style>\n",
       "<table border=\"1\" class=\"dataframe\">\n",
       "  <thead>\n",
       "    <tr style=\"text-align: right;\">\n",
       "      <th></th>\n",
       "      <th>Unnamed: 0</th>\n",
       "      <th>SeriousDlqin2yrs</th>\n",
       "      <th>RevolvingUtilizationOfUnsecuredLines</th>\n",
       "      <th>age</th>\n",
       "      <th>NumberOfTime30-59DaysPastDueNotWorse</th>\n",
       "      <th>DebtRatio</th>\n",
       "      <th>MonthlyIncome</th>\n",
       "      <th>NumberOfOpenCreditLinesAndLoans</th>\n",
       "      <th>NumberOfTimes90DaysLate</th>\n",
       "      <th>NumberRealEstateLoansOrLines</th>\n",
       "      <th>NumberOfTime60-89DaysPastDueNotWorse</th>\n",
       "      <th>NumberOfDependents</th>\n",
       "    </tr>\n",
       "  </thead>\n",
       "  <tbody>\n",
       "    <tr>\n",
       "      <th>count</th>\n",
       "      <td>90306.00000</td>\n",
       "      <td>90306.000000</td>\n",
       "      <td>90306.000000</td>\n",
       "      <td>90306.000000</td>\n",
       "      <td>90306.000000</td>\n",
       "      <td>90306.000000</td>\n",
       "      <td>9.030600e+04</td>\n",
       "      <td>90306.000000</td>\n",
       "      <td>90306.000000</td>\n",
       "      <td>90306.000000</td>\n",
       "      <td>90306.000000</td>\n",
       "      <td>90306.000000</td>\n",
       "    </tr>\n",
       "    <tr>\n",
       "      <th>mean</th>\n",
       "      <td>74902.90922</td>\n",
       "      <td>0.067914</td>\n",
       "      <td>0.343623</td>\n",
       "      <td>46.526454</td>\n",
       "      <td>0.259595</td>\n",
       "      <td>0.319641</td>\n",
       "      <td>7.101786e+03</td>\n",
       "      <td>8.583915</td>\n",
       "      <td>0.089983</td>\n",
       "      <td>1.056375</td>\n",
       "      <td>0.065145</td>\n",
       "      <td>0.983067</td>\n",
       "    </tr>\n",
       "    <tr>\n",
       "      <th>std</th>\n",
       "      <td>43325.47851</td>\n",
       "      <td>0.251599</td>\n",
       "      <td>0.343590</td>\n",
       "      <td>10.790546</td>\n",
       "      <td>0.703518</td>\n",
       "      <td>0.221457</td>\n",
       "      <td>1.477513e+04</td>\n",
       "      <td>5.108335</td>\n",
       "      <td>0.469816</td>\n",
       "      <td>1.093705</td>\n",
       "      <td>0.322731</td>\n",
       "      <td>1.201101</td>\n",
       "    </tr>\n",
       "    <tr>\n",
       "      <th>min</th>\n",
       "      <td>1.00000</td>\n",
       "      <td>0.000000</td>\n",
       "      <td>0.000000</td>\n",
       "      <td>21.000000</td>\n",
       "      <td>0.000000</td>\n",
       "      <td>0.000000</td>\n",
       "      <td>0.000000e+00</td>\n",
       "      <td>0.000000</td>\n",
       "      <td>0.000000</td>\n",
       "      <td>0.000000</td>\n",
       "      <td>0.000000</td>\n",
       "      <td>0.000000</td>\n",
       "    </tr>\n",
       "    <tr>\n",
       "      <th>25%</th>\n",
       "      <td>37528.25000</td>\n",
       "      <td>0.000000</td>\n",
       "      <td>0.043660</td>\n",
       "      <td>38.000000</td>\n",
       "      <td>0.000000</td>\n",
       "      <td>0.152416</td>\n",
       "      <td>3.800000e+03</td>\n",
       "      <td>5.000000</td>\n",
       "      <td>0.000000</td>\n",
       "      <td>0.000000</td>\n",
       "      <td>0.000000</td>\n",
       "      <td>0.000000</td>\n",
       "    </tr>\n",
       "    <tr>\n",
       "      <th>50%</th>\n",
       "      <td>74777.50000</td>\n",
       "      <td>0.000000</td>\n",
       "      <td>0.207982</td>\n",
       "      <td>47.000000</td>\n",
       "      <td>0.000000</td>\n",
       "      <td>0.292997</td>\n",
       "      <td>5.833000e+03</td>\n",
       "      <td>8.000000</td>\n",
       "      <td>0.000000</td>\n",
       "      <td>1.000000</td>\n",
       "      <td>0.000000</td>\n",
       "      <td>1.000000</td>\n",
       "    </tr>\n",
       "    <tr>\n",
       "      <th>75%</th>\n",
       "      <td>112466.75000</td>\n",
       "      <td>0.000000</td>\n",
       "      <td>0.602073</td>\n",
       "      <td>55.000000</td>\n",
       "      <td>0.000000</td>\n",
       "      <td>0.451589</td>\n",
       "      <td>8.583000e+03</td>\n",
       "      <td>11.000000</td>\n",
       "      <td>0.000000</td>\n",
       "      <td>2.000000</td>\n",
       "      <td>0.000000</td>\n",
       "      <td>2.000000</td>\n",
       "    </tr>\n",
       "    <tr>\n",
       "      <th>max</th>\n",
       "      <td>150000.00000</td>\n",
       "      <td>1.000000</td>\n",
       "      <td>1.000000</td>\n",
       "      <td>64.000000</td>\n",
       "      <td>13.000000</td>\n",
       "      <td>1.000000</td>\n",
       "      <td>3.008750e+06</td>\n",
       "      <td>57.000000</td>\n",
       "      <td>17.000000</td>\n",
       "      <td>29.000000</td>\n",
       "      <td>11.000000</td>\n",
       "      <td>20.000000</td>\n",
       "    </tr>\n",
       "  </tbody>\n",
       "</table>\n",
       "</div>"
      ],
      "text/plain": [
       "         Unnamed: 0  SeriousDlqin2yrs  RevolvingUtilizationOfUnsecuredLines  \\\n",
       "count   90306.00000      90306.000000                          90306.000000   \n",
       "mean    74902.90922          0.067914                              0.343623   \n",
       "std     43325.47851          0.251599                              0.343590   \n",
       "min         1.00000          0.000000                              0.000000   \n",
       "25%     37528.25000          0.000000                              0.043660   \n",
       "50%     74777.50000          0.000000                              0.207982   \n",
       "75%    112466.75000          0.000000                              0.602073   \n",
       "max    150000.00000          1.000000                              1.000000   \n",
       "\n",
       "                age  NumberOfTime30-59DaysPastDueNotWorse     DebtRatio  \\\n",
       "count  90306.000000                          90306.000000  90306.000000   \n",
       "mean      46.526454                              0.259595      0.319641   \n",
       "std       10.790546                              0.703518      0.221457   \n",
       "min       21.000000                              0.000000      0.000000   \n",
       "25%       38.000000                              0.000000      0.152416   \n",
       "50%       47.000000                              0.000000      0.292997   \n",
       "75%       55.000000                              0.000000      0.451589   \n",
       "max       64.000000                             13.000000      1.000000   \n",
       "\n",
       "       MonthlyIncome  NumberOfOpenCreditLinesAndLoans  \\\n",
       "count   9.030600e+04                     90306.000000   \n",
       "mean    7.101786e+03                         8.583915   \n",
       "std     1.477513e+04                         5.108335   \n",
       "min     0.000000e+00                         0.000000   \n",
       "25%     3.800000e+03                         5.000000   \n",
       "50%     5.833000e+03                         8.000000   \n",
       "75%     8.583000e+03                        11.000000   \n",
       "max     3.008750e+06                        57.000000   \n",
       "\n",
       "       NumberOfTimes90DaysLate  NumberRealEstateLoansOrLines  \\\n",
       "count             90306.000000                  90306.000000   \n",
       "mean                  0.089983                      1.056375   \n",
       "std                   0.469816                      1.093705   \n",
       "min                   0.000000                      0.000000   \n",
       "25%                   0.000000                      0.000000   \n",
       "50%                   0.000000                      1.000000   \n",
       "75%                   0.000000                      2.000000   \n",
       "max                  17.000000                     29.000000   \n",
       "\n",
       "       NumberOfTime60-89DaysPastDueNotWorse  NumberOfDependents  \n",
       "count                          90306.000000        90306.000000  \n",
       "mean                               0.065145            0.983067  \n",
       "std                                0.322731            1.201101  \n",
       "min                                0.000000            0.000000  \n",
       "25%                                0.000000            0.000000  \n",
       "50%                                0.000000            1.000000  \n",
       "75%                                0.000000            2.000000  \n",
       "max                               11.000000           20.000000  "
      ]
     },
     "execution_count": 19,
     "metadata": {},
     "output_type": "execute_result"
    }
   ],
   "source": [
    "data.describe()"
   ]
  },
  {
   "cell_type": "markdown",
   "metadata": {},
   "source": [
    "#### 月收入"
   ]
  },
  {
   "cell_type": "code",
   "execution_count": 20,
   "metadata": {
    "ExecuteTime": {
     "end_time": "2022-08-17T15:35:14.830870Z",
     "start_time": "2022-08-17T15:35:14.642986Z"
    }
   },
   "outputs": [
    {
     "data": {
      "text/plain": [
       "[Text(1, 0, 'MonthlyIncome')]"
      ]
     },
     "execution_count": 20,
     "metadata": {},
     "output_type": "execute_result"
    },
    {
     "data": {
      "image/png": "[encoded data removed]",
      "text/plain": [
       "<Figure size 432x288 with 1 Axes>"
      ]
     },
     "metadata": {
      "needs_background": "light"
     },
     "output_type": "display_data"
    }
   ],
   "source": [
    "fig = plt.figure()\n",
    "x = data['MonthlyIncome']\n",
    "ax = fig.add_subplot(111)\n",
    "ax.boxplot([x])\n",
    "ax.set_xticklabels(['MonthlyIncome'])"
   ]
  },
  {
   "cell_type": "code",
   "execution_count": 21,
   "metadata": {
    "ExecuteTime": {
     "end_time": "2022-08-17T15:35:14.862852Z",
     "start_time": "2022-08-17T15:35:14.833869Z"
    }
   },
   "outputs": [],
   "source": [
    "data = data[data['MonthlyIncome'] <= 1000000]"
   ]
  },
  {
   "cell_type": "code",
   "execution_count": 22,
   "metadata": {
    "ExecuteTime": {
     "end_time": "2022-08-17T15:35:14.957792Z",
     "start_time": "2022-08-17T15:35:14.865849Z"
    }
   },
   "outputs": [
    {
     "data": {
      "text/html": [
       "<div>\n",
       "<style scoped>\n",
       "    .dataframe tbody tr th:only-of-type {\n",
       "        vertical-align: middle;\n",
       "    }\n",
       "\n",
       "    .dataframe tbody tr th {\n",
       "        vertical-align: top;\n",
       "    }\n",
       "\n",
       "    .dataframe thead th {\n",
       "        text-align: right;\n",
       "    }\n",
       "</style>\n",
       "<table border=\"1\" class=\"dataframe\">\n",
       "  <thead>\n",
       "    <tr style=\"text-align: right;\">\n",
       "      <th></th>\n",
       "      <th>Unnamed: 0</th>\n",
       "      <th>SeriousDlqin2yrs</th>\n",
       "      <th>RevolvingUtilizationOfUnsecuredLines</th>\n",
       "      <th>age</th>\n",
       "      <th>NumberOfTime30-59DaysPastDueNotWorse</th>\n",
       "      <th>DebtRatio</th>\n",
       "      <th>MonthlyIncome</th>\n",
       "      <th>NumberOfOpenCreditLinesAndLoans</th>\n",
       "      <th>NumberOfTimes90DaysLate</th>\n",
       "      <th>NumberRealEstateLoansOrLines</th>\n",
       "      <th>NumberOfTime60-89DaysPastDueNotWorse</th>\n",
       "      <th>NumberOfDependents</th>\n",
       "    </tr>\n",
       "  </thead>\n",
       "  <tbody>\n",
       "    <tr>\n",
       "      <th>count</th>\n",
       "      <td>90303.000000</td>\n",
       "      <td>90303.000000</td>\n",
       "      <td>90303.000000</td>\n",
       "      <td>90303.000000</td>\n",
       "      <td>90303.000000</td>\n",
       "      <td>90303.000000</td>\n",
       "      <td>90303.000000</td>\n",
       "      <td>90303.000000</td>\n",
       "      <td>90303.000000</td>\n",
       "      <td>90303.000000</td>\n",
       "      <td>90303.000000</td>\n",
       "      <td>90303.000000</td>\n",
       "    </tr>\n",
       "    <tr>\n",
       "      <th>mean</th>\n",
       "      <td>74902.786718</td>\n",
       "      <td>0.067916</td>\n",
       "      <td>0.343627</td>\n",
       "      <td>46.526450</td>\n",
       "      <td>0.259593</td>\n",
       "      <td>0.319651</td>\n",
       "      <td>7039.550468</td>\n",
       "      <td>8.583857</td>\n",
       "      <td>0.089986</td>\n",
       "      <td>1.056333</td>\n",
       "      <td>0.065147</td>\n",
       "      <td>0.983033</td>\n",
       "    </tr>\n",
       "    <tr>\n",
       "      <th>std</th>\n",
       "      <td>43325.952873</td>\n",
       "      <td>0.251603</td>\n",
       "      <td>0.343593</td>\n",
       "      <td>10.790704</td>\n",
       "      <td>0.703524</td>\n",
       "      <td>0.221453</td>\n",
       "      <td>8902.520289</td>\n",
       "      <td>5.108405</td>\n",
       "      <td>0.469824</td>\n",
       "      <td>1.093675</td>\n",
       "      <td>0.322736</td>\n",
       "      <td>1.201097</td>\n",
       "    </tr>\n",
       "    <tr>\n",
       "      <th>min</th>\n",
       "      <td>1.000000</td>\n",
       "      <td>0.000000</td>\n",
       "      <td>0.000000</td>\n",
       "      <td>21.000000</td>\n",
       "      <td>0.000000</td>\n",
       "      <td>0.000000</td>\n",
       "      <td>0.000000</td>\n",
       "      <td>0.000000</td>\n",
       "      <td>0.000000</td>\n",
       "      <td>0.000000</td>\n",
       "      <td>0.000000</td>\n",
       "      <td>0.000000</td>\n",
       "    </tr>\n",
       "    <tr>\n",
       "      <th>25%</th>\n",
       "      <td>37527.500000</td>\n",
       "      <td>0.000000</td>\n",
       "      <td>0.043660</td>\n",
       "      <td>38.000000</td>\n",
       "      <td>0.000000</td>\n",
       "      <td>0.152441</td>\n",
       "      <td>3800.000000</td>\n",
       "      <td>5.000000</td>\n",
       "      <td>0.000000</td>\n",
       "      <td>0.000000</td>\n",
       "      <td>0.000000</td>\n",
       "      <td>0.000000</td>\n",
       "    </tr>\n",
       "    <tr>\n",
       "      <th>50%</th>\n",
       "      <td>74778.000000</td>\n",
       "      <td>0.000000</td>\n",
       "      <td>0.207983</td>\n",
       "      <td>47.000000</td>\n",
       "      <td>0.000000</td>\n",
       "      <td>0.293017</td>\n",
       "      <td>5833.000000</td>\n",
       "      <td>8.000000</td>\n",
       "      <td>0.000000</td>\n",
       "      <td>1.000000</td>\n",
       "      <td>0.000000</td>\n",
       "      <td>1.000000</td>\n",
       "    </tr>\n",
       "    <tr>\n",
       "      <th>75%</th>\n",
       "      <td>112468.000000</td>\n",
       "      <td>0.000000</td>\n",
       "      <td>0.602131</td>\n",
       "      <td>55.000000</td>\n",
       "      <td>0.000000</td>\n",
       "      <td>0.451592</td>\n",
       "      <td>8583.000000</td>\n",
       "      <td>11.000000</td>\n",
       "      <td>0.000000</td>\n",
       "      <td>2.000000</td>\n",
       "      <td>0.000000</td>\n",
       "      <td>2.000000</td>\n",
       "    </tr>\n",
       "    <tr>\n",
       "      <th>max</th>\n",
       "      <td>150000.000000</td>\n",
       "      <td>1.000000</td>\n",
       "      <td>1.000000</td>\n",
       "      <td>64.000000</td>\n",
       "      <td>13.000000</td>\n",
       "      <td>1.000000</td>\n",
       "      <td>835040.000000</td>\n",
       "      <td>57.000000</td>\n",
       "      <td>17.000000</td>\n",
       "      <td>29.000000</td>\n",
       "      <td>11.000000</td>\n",
       "      <td>20.000000</td>\n",
       "    </tr>\n",
       "  </tbody>\n",
       "</table>\n",
       "</div>"
      ],
      "text/plain": [
       "          Unnamed: 0  SeriousDlqin2yrs  RevolvingUtilizationOfUnsecuredLines  \\\n",
       "count   90303.000000      90303.000000                          90303.000000   \n",
       "mean    74902.786718          0.067916                              0.343627   \n",
       "std     43325.952873          0.251603                              0.343593   \n",
       "min         1.000000          0.000000                              0.000000   \n",
       "25%     37527.500000          0.000000                              0.043660   \n",
       "50%     74778.000000          0.000000                              0.207983   \n",
       "75%    112468.000000          0.000000                              0.602131   \n",
       "max    150000.000000          1.000000                              1.000000   \n",
       "\n",
       "                age  NumberOfTime30-59DaysPastDueNotWorse     DebtRatio  \\\n",
       "count  90303.000000                          90303.000000  90303.000000   \n",
       "mean      46.526450                              0.259593      0.319651   \n",
       "std       10.790704                              0.703524      0.221453   \n",
       "min       21.000000                              0.000000      0.000000   \n",
       "25%       38.000000                              0.000000      0.152441   \n",
       "50%       47.000000                              0.000000      0.293017   \n",
       "75%       55.000000                              0.000000      0.451592   \n",
       "max       64.000000                             13.000000      1.000000   \n",
       "\n",
       "       MonthlyIncome  NumberOfOpenCreditLinesAndLoans  \\\n",
       "count   90303.000000                     90303.000000   \n",
       "mean     7039.550468                         8.583857   \n",
       "std      8902.520289                         5.108405   \n",
       "min         0.000000                         0.000000   \n",
       "25%      3800.000000                         5.000000   \n",
       "50%      5833.000000                         8.000000   \n",
       "75%      8583.000000                        11.000000   \n",
       "max    835040.000000                        57.000000   \n",
       "\n",
       "       NumberOfTimes90DaysLate  NumberRealEstateLoansOrLines  \\\n",
       "count             90303.000000                  90303.000000   \n",
       "mean                  0.089986                      1.056333   \n",
       "std                   0.469824                      1.093675   \n",
       "min                   0.000000                      0.000000   \n",
       "25%                   0.000000                      0.000000   \n",
       "50%                   0.000000                      1.000000   \n",
       "75%                   0.000000                      2.000000   \n",
       "max                  17.000000                     29.000000   \n",
       "\n",
       "       NumberOfTime60-89DaysPastDueNotWorse  NumberOfDependents  \n",
       "count                          90303.000000        90303.000000  \n",
       "mean                               0.065147            0.983033  \n",
       "std                                0.322736            1.201097  \n",
       "min                                0.000000            0.000000  \n",
       "25%                                0.000000            0.000000  \n",
       "50%                                0.000000            1.000000  \n",
       "75%                                0.000000            2.000000  \n",
       "max                               11.000000           20.000000  "
      ]
     },
     "execution_count": 22,
     "metadata": {},
     "output_type": "execute_result"
    }
   ],
   "source": [
    "data.describe()"
   ]
  },
  {
   "cell_type": "markdown",
   "metadata": {},
   "source": [
    "# 3.探索性分析"
   ]
  },
  {
   "cell_type": "markdown",
   "metadata": {},
   "source": [
    "## 好坏客户整体情况"
   ]
  },
  {
   "cell_type": "code",
   "execution_count": 23,
   "metadata": {
    "ExecuteTime": {
     "end_time": "2022-08-17T15:35:14.988772Z",
     "start_time": "2022-08-17T15:35:14.965787Z"
    }
   },
   "outputs": [
    {
     "data": {
      "text/plain": [
       "SeriousDlqin2yrs\n",
       "0     6133\n",
       "1    84170\n",
       "Name: SeriousDlqin2yrs, dtype: int64"
      ]
     },
     "execution_count": 23,
     "metadata": {},
     "output_type": "execute_result"
    }
   ],
   "source": [
    "# 考虑到实际分类中，一般正常客户为1，违约客户为0，所以我们需要先转换客户分类列数据。\n",
    "import matplotlib.pyplot as plt\n",
    "data['SeriousDlqin2yrs'] = 1-data['SeriousDlqin2yrs']  #转换0、1\n",
    "grouped = data['SeriousDlqin2yrs'].groupby(data['SeriousDlqin2yrs']).count()\n",
    "#print(\"不良客户占比:\",(grouped[0]/grouped[1])*100,\"%\")\n",
    "#grouped.plot(kind = 'pie')\n",
    "grouped"
   ]
  },
  {
   "cell_type": "code",
   "execution_count": 24,
   "metadata": {
    "ExecuteTime": {
     "end_time": "2022-08-17T15:35:15.257204Z",
     "start_time": "2022-08-17T15:35:14.991771Z"
    }
   },
   "outputs": [
    {
     "data": {
      "image/png": "[encoded data removed]",
      "text/plain": [
       "<Figure size 432x432 with 1 Axes>"
      ]
     },
     "metadata": {},
     "output_type": "display_data"
    }
   ],
   "source": [
    "import matplotlib.pyplot as plt\n",
    "#plt.rcParams['font.sans-serif']='SimHei'#设置中文显示\n",
    "plt.figure(figsize=(6,6))#将画布设定为正方形，则绘制的饼图是正圆\n",
    "label=['违约客户','正常客户']#定义饼图的标签，标签是列表\n",
    "explode=[0.01,0.01]#设定各项距离圆心n个半径\n",
    "#plt.pie(values[-1,3:6],explode=explode,labels=label,autopct='%1.1f%%')#绘制饼图\n",
    "values=[grouped[0], grouped[1]]\n",
    "plt.pie(values,explode=explode,labels=label,autopct='%1.1f%%')#绘制饼图\n",
    "plt.title('违约客户占比')\n",
    "plt.savefig('./违约客户占比')\n",
    "plt.show()"
   ]
  },
  {
   "cell_type": "markdown",
   "metadata": {},
   "source": [
    "## 相关性分析"
   ]
  },
  {
   "cell_type": "code",
   "execution_count": 25,
   "metadata": {
    "ExecuteTime": {
     "end_time": "2022-08-17T15:35:18.617464Z",
     "start_time": "2022-08-17T15:35:15.260202Z"
    }
   },
   "outputs": [
    {
     "data": {
      "text/plain": [
       "<AxesSubplot:>"
      ]
     },
     "execution_count": 25,
     "metadata": {},
     "output_type": "execute_result"
    },
    {
     "data": {
      "image/png": "[encoded data removed]",
      "text/plain": [
       "<Figure size 864x576 with 2 Axes>"
      ]
     },
     "metadata": {
      "needs_background": "light"
     },
     "output_type": "display_data"
    }
   ],
   "source": [
    "corr = data.corr()\n",
    "corr\n",
    "fig = plt.figure(figsize=(12,8))\n",
    "ax1 = fig.add_subplot(1,1,1)\n",
    "sns.heatmap(corr,annot = True,ax = ax1) #annot:annotate的缩写，annot默认为False，当annot为True时，在heatmap中每个方格写入数据"
   ]
  },
  {
   "cell_type": "markdown",
   "metadata": {},
   "source": [
    "## 数据切分"
   ]
  },
  {
   "cell_type": "code",
   "execution_count": 26,
   "metadata": {
    "ExecuteTime": {
     "end_time": "2022-08-17T15:35:20.027904Z",
     "start_time": "2022-08-17T15:35:18.621460Z"
    }
   },
   "outputs": [],
   "source": [
    "from sklearn.model_selection import train_test_split\n",
    "Y = data['SeriousDlqin2yrs']\n",
    "X=data.iloc[:,1:]\n",
    "X_train, X_test, Y_train, Y_test = train_test_split(X,Y,train_size = 0.8,random_state=100)\n",
    "train = pd.concat([Y_train,X_train], axis =1)  #concat函数是在pandas底下的方法，可以将数据根据不同的轴作简单的融合\n",
    "test = pd.concat([Y_test,X_test], axis =1)\n",
    "train = train.reset_index(drop=True)   #经过reset_index(drop=True)，可使index连续，如果不进行reset_index(drop=True)，index会变得不连续\n",
    "test = test.reset_index(drop=True)\n",
    "#保留一份测试数据集，后面生成评分卡\n",
    "#test.to_csv('origin_test.csv', index=False)"
   ]
  },
  {
   "cell_type": "markdown",
   "metadata": {},
   "source": [
    "## 特征分箱"
   ]
  },
  {
   "cell_type": "code",
   "execution_count": 27,
   "metadata": {
    "ExecuteTime": {
     "end_time": "2022-08-17T15:35:20.059883Z",
     "start_time": "2022-08-17T15:35:20.032901Z"
    }
   },
   "outputs": [],
   "source": [
    "import scipy.stats as stats\n",
    "\n",
    "def monoto_bin(Y, X, n):\n",
    "    #相关系数初始化\n",
    "    r = 0\n",
    "    total_good = Y.sum()\n",
    "    total_bad =Y.count()-total_good\n",
    "    #选择最佳分箱数量：从n自减，寻找到最大绝对值相关系数。这是一种经验做法。也可以使用其他分箱方法\n",
    "    while np.abs(r) < 1:\n",
    "        d1 = pd.DataFrame({\"X\": X, \"Y\": Y, \"Bucket\": pd.qcut(X, n)})\n",
    "        #次数n代表分箱的个数，每个分箱内数据个数相等\n",
    "        d2 = d1.groupby('Bucket', as_index = True)\n",
    "        r, p = stats.spearmanr(d2.mean().X, d2.mean().Y)\n",
    "        n = n - 1\n",
    "    #循环完成后，此时同时得到了某个d2和n，d2就是最佳分箱下的参数\n",
    "    \n",
    "    d3 = pd.DataFrame(d2.min().X, columns = ['min_' + X.name])\n",
    "    d3['min_' + X.name] = d2.min().X\n",
    "    d3['max_' + X.name] = d2.max().X\n",
    "    d3[Y.name] = d2.sum().Y\n",
    "    d3['total'] = d2.count().Y\n",
    "    #d3[Y.name + '_rate'] = d2.mean().Y\n",
    "    #好坏比，求woe,证据权重，自变量对目标变量有没有影响，什么影响\n",
    "    d3['goodattr']=d3[Y.name]/total_good\n",
    "    #goodattr计算方式是每个箱子里的好客户数量/数据集里总的好客户数量\n",
    "    d3['badattr']=(d3['total']-d3[Y.name])/total_bad\n",
    "    #badattr计算方式是每个箱子里的坏客户数量/数据集里总的坏客户数量\n",
    "    d3['woe'] = np.log(d3['goodattr']/d3['badattr'])\n",
    "    #之所以这样设置公式，是根据逻辑回归来定义的\n",
    "    #iv，信息值，自变量对于目标变量的影响程度\n",
    "    #IV为information value表示特征的预测能力，如果分箱后，好坏样本所占的比例相差不大的话，就失去了预测能力\n",
    "    #该公式相当于求內积之和\n",
    "    iv = ((d3['goodattr']-d3['badattr'])*d3['woe']).sum()\n",
    "    d4 = (d3.sort_values(by = 'min_' + X.name)).reset_index(drop = True)\n",
    "    print (\"=\" * 80)\n",
    "    print (d4)\n",
    "    cut = []    #存放箱段节点\n",
    "    cut.append(float('-inf'))   #在列表前加-inf\n",
    "    for i in range(1,n+1):      # n 是前面分箱的分割数  ，所以分成n+1份\n",
    "        qua =X.quantile(i/(n+1))  # quantile 分为数 得到分箱的节点\n",
    "        cut.append(round(qua,4))   # quantile 分为数 得到分箱的节点\n",
    "    cut.append(float('inf'))    # 在列表后加inf\n",
    "    woe = list(d4['woe'].round(3))\n",
    "    return d4,iv,cut,woe\n",
    "    #cut是对X取他的四分位，因为Y只有0/1也不能取四分位。n=3因为最后有n-1，所以实际上是分成了四个桶，woe是四个值。goodattribute是好的属性的意思"
   ]
  },
  {
   "cell_type": "markdown",
   "metadata": {},
   "source": [
    "### 能自动优化的分箱"
   ]
  },
  {
   "cell_type": "code",
   "execution_count": 28,
   "metadata": {
    "ExecuteTime": {
     "end_time": "2022-08-17T15:35:21.279182Z",
     "start_time": "2022-08-17T15:35:20.063882Z"
    }
   },
   "outputs": [
    {
     "name": "stdout",
     "output_type": "stream",
     "text": [
      "================================================================================\n",
      "   min_RevolvingUtilizationOfUnsecuredLines  \\\n",
      "0                                  0.000000   \n",
      "1                                  0.043661   \n",
      "2                                  0.207988   \n",
      "3                                  0.602190   \n",
      "\n",
      "   max_RevolvingUtilizationOfUnsecuredLines  SeriousDlqin2yrs  total  \\\n",
      "0                                  0.043660             22078  22576   \n",
      "1                                  0.207983             21973  22576   \n",
      "2                                  0.602073             21250  22575   \n",
      "3                                  1.000000             18869  22576   \n",
      "\n",
      "   goodattr   badattr       woe  \n",
      "0  0.262302  0.081200  1.172582  \n",
      "1  0.261055  0.098321  0.976498  \n",
      "2  0.252465  0.216044  0.155790  \n",
      "3  0.224177  0.604435 -0.991857  \n",
      "================================================================================\n",
      "   min_age  max_age  SeriousDlqin2yrs  total  goodattr   badattr       woe\n",
      "0       21       32             10444  11539  0.124082  0.178542 -0.363881\n",
      "1       33       38             10174  11078  0.120874  0.147399 -0.198393\n",
      "2       39       43             11115  12066  0.132054  0.155063 -0.160618\n",
      "3       44       47             10220  10988  0.121421  0.125224 -0.030842\n",
      "4       48       51             10732  11524  0.127504  0.129137 -0.012731\n",
      "5       52       55             10086  10756  0.119829  0.109245  0.092471\n",
      "6       56       60             11870  12461  0.141024  0.096364  0.380799\n",
      "7       61       64              9529   9891  0.113211  0.059025  0.651296\n",
      "================================================================================\n",
      "   min_DebtRatio  max_DebtRatio  SeriousDlqin2yrs  total  goodattr  badattr  \\\n",
      "0            0.0            1.0             84170  90303       1.0      1.0   \n",
      "\n",
      "   woe  \n",
      "0  0.0  \n",
      "================================================================================\n",
      "   min_MonthlyIncome  max_MonthlyIncome  SeriousDlqin2yrs  total  goodattr  \\\n",
      "0                0.0             2706.0             10209  11288  0.121290   \n",
      "1             2707.0             3800.0             10518  11574  0.124961   \n",
      "2             3801.0             4800.0             10288  11211  0.122229   \n",
      "3             4801.0             5833.0             10398  11160  0.123536   \n",
      "4             5834.0             7000.0             11172  11912  0.132731   \n",
      "5             7001.0             8583.0             10100  10653  0.119995   \n",
      "6             8584.0            11100.0             10704  11247  0.127171   \n",
      "7            11101.0           835040.0             10781  11258  0.128086   \n",
      "\n",
      "    badattr       woe  \n",
      "0  0.175933 -0.371920  \n",
      "1  0.172183 -0.320555  \n",
      "2  0.150497 -0.208050  \n",
      "3  0.124246 -0.005732  \n",
      "4  0.120659  0.095361  \n",
      "5  0.090168  0.285778  \n",
      "6  0.088537  0.362109  \n",
      "7  0.077776  0.498870  \n",
      "================================================================================\n",
      "   min_NumberOfOpenCreditLinesAndLoans  max_NumberOfOpenCreditLinesAndLoans  \\\n",
      "0                                    0                                   57   \n",
      "\n",
      "   SeriousDlqin2yrs  total  goodattr  badattr  woe  \n",
      "0             84170  90303       1.0      1.0  0.0  \n"
     ]
    }
   ],
   "source": [
    "dfx1,ivx1,cutx1,woex1 = monoto_bin(data['SeriousDlqin2yrs'],data['RevolvingUtilizationOfUnsecuredLines'],n = 10)\n",
    "dfx2,ivx2,cutx2,woex2 = monoto_bin(data['SeriousDlqin2yrs'],data['age'],n = 10)\n",
    "dfx4,ivx4,cutx4,woex4 = monoto_bin(data['SeriousDlqin2yrs'],data['DebtRatio'],n = 10)\n",
    "dfx5,ivx5,cutx5,woex5 = monoto_bin(data['SeriousDlqin2yrs'],data['MonthlyIncome'],n = 10)\n",
    "dfx6,ivx6,cutx6,woex6 = monoto_bin(data['SeriousDlqin2yrs'],data['NumberOfOpenCreditLinesAndLoans'],n = 10)"
   ]
  },
  {
   "cell_type": "markdown",
   "metadata": {},
   "source": [
    "### 对于不能用最优分段的变量，采用自定义分箱"
   ]
  },
  {
   "cell_type": "code",
   "execution_count": 29,
   "metadata": {
    "ExecuteTime": {
     "end_time": "2022-08-17T15:35:21.311162Z",
     "start_time": "2022-08-17T15:35:21.284181Z"
    }
   },
   "outputs": [],
   "source": [
    "import scipy.stats as stats\n",
    "def self_bin(x,y,cut): # x为待分箱的变量，y为target变量,cut为自定义的分箱(list)\n",
    "    total = y.count()  # 计算总样本数\n",
    "    bad = y.sum()      # 计算坏样本数\n",
    "    good = y.count()-y.sum()  # 计算好样本数\n",
    "    d1 = pd.DataFrame({'x':x,'y':y,'bucket':pd.cut(x,cut)}) \n",
    "    d2 = d1.groupby('bucket',as_index=True)  # 按照分箱结果进行分组聚合\n",
    "    d3 = pd.DataFrame(d2.x.min(),columns=['min_bin']) \n",
    "    d3['min_bin'] = d2.x.min()  # 箱体的左边界\n",
    "    d3['max_bin'] = d2.x.max()  # 箱体的右边界\n",
    "    d3['bad'] = d2.y.sum()  # 每个箱体中坏样本的数量\n",
    "    d3['total'] = d2.y.count() # 每个箱体的总样本数\n",
    "    d3['bad_rate'] = d3['bad']/d3['total']  # 每个箱体中坏样本所占总样本数的比例\n",
    "    d3['badattr'] = d3['bad']/bad   # 每个箱体中坏样本所占坏样本总数的比例\n",
    "    d3['goodattr'] = (d3['total'] - d3['bad'])/good  # 每个箱体中好样本所占好样本总数的比例\n",
    "    d3['woe'] = np.log(d3['goodattr']/d3['badattr'])  # 计算每个箱体的woe值\n",
    "    iv = ((d3['goodattr']-d3['badattr'])*d3['woe']).sum()  # 计算变量的iv值\n",
    "    d4 = (d3.sort_values(by = 'min_bin')).reset_index(drop=True) # 对箱体从大到小进行排序\n",
    "    print('分箱结果：')\n",
    "    print(d4)\n",
    "    print('IV值为：')\n",
    "    print(iv)\n",
    "    woe = list(d4['woe'].round(3))\n",
    "    return d4,iv,woe"
   ]
  },
  {
   "cell_type": "code",
   "execution_count": 30,
   "metadata": {
    "ExecuteTime": {
     "end_time": "2022-08-17T15:35:21.596988Z",
     "start_time": "2022-08-17T15:35:21.314161Z"
    }
   },
   "outputs": [
    {
     "name": "stdout",
     "output_type": "stream",
     "text": [
      "分箱结果：\n",
      "   min_bin  max_bin    bad  total  bad_rate  badattr  goodattr  woe\n",
      "0        0        1  23442  90303  0.259593      1.0       1.0  0.0\n",
      "IV值为：\n",
      "0.0\n",
      "分箱结果：\n",
      "   min_bin  max_bin   bad  total  bad_rate   badattr  goodattr       woe\n",
      "0        0        0  3713   6133  0.605413  0.456928  0.029449 -2.741879\n",
      "1        1        1  4413  84170  0.052430  0.543072  0.970551  0.580623\n",
      "IV值为：\n",
      "1.420302498764587\n",
      "分箱结果：\n",
      "   min_bin  max_bin    bad  total  bad_rate   badattr  goodattr       woe\n",
      "0        1        1  89600  84170  1.064512  0.939302  1.067427  0.127869\n",
      "IV值为：\n",
      "0.016383248922518613\n",
      "分箱结果：\n",
      "   min_bin  max_bin   bad  total  bad_rate  badattr  goodattr       woe\n",
      "0        0        0  2133   6133  0.347791  0.36257  0.047382 -2.034973\n",
      "1        1        1  3750  84170  0.044553  0.63743  0.952618  0.401770\n",
      "IV值为：\n",
      "0.7680318337016258\n",
      "分箱结果：\n",
      "   min_bin  max_bin           bad  total  bad_rate   badattr  goodattr  \\\n",
      "0        1        1  82026.513897  84170  0.974534  0.924026  1.398973   \n",
      "\n",
      "        woe  \n",
      "0  0.414754  \n",
      "IV值为：\n",
      "0.19698613997418993\n"
     ]
    }
   ],
   "source": [
    "pinf = float('inf')#正无穷大\n",
    "ninf = float('-inf')#负无穷大\n",
    "cutx3 = [ninf, pinf]\n",
    "cutx7 = [ninf, 0, pinf]\n",
    "cutx8 = [ 0, pinf]\n",
    "cutx9 = [ninf, 0, pinf]\n",
    "cutx10 = [0,pinf]\n",
    "dfx3, ivx3,woex3 = self_bin(data['SeriousDlqin2yrs'],data['NumberOfTime30-59DaysPastDueNotWorse'],cutx3)\n",
    "dfx7, ivx7,woex7 = self_bin(data['SeriousDlqin2yrs'],data['NumberOfTimes90DaysLate'],cutx7)\n",
    "dfx8, ivx8,woex8 = self_bin(data['SeriousDlqin2yrs'],data['NumberRealEstateLoansOrLines'],cutx8) \n",
    "dfx9, ivx9,woex9 = self_bin(data['SeriousDlqin2yrs'],data['NumberOfTime60-89DaysPastDueNotWorse'],cutx9)\n",
    "dfx10, ivx10,woex10 = self_bin(data['SeriousDlqin2yrs'],data['NumberOfDependents'],cutx10)"
   ]
  },
  {
   "cell_type": "markdown",
   "metadata": {},
   "source": [
    "## 计算IV值"
   ]
  },
  {
   "cell_type": "code",
   "execution_count": 31,
   "metadata": {
    "ExecuteTime": {
     "end_time": "2022-08-17T15:35:22.150645Z",
     "start_time": "2022-08-17T15:35:21.600986Z"
    }
   },
   "outputs": [
    {
     "data": {
      "image/png": "[encoded data removed]",
      "text/plain": [
       "<Figure size 432x288 with 1 Axes>"
      ]
     },
     "metadata": {
      "needs_background": "light"
     },
     "output_type": "display_data"
    }
   ],
   "source": [
    "ivlist=[ivx1,ivx2,ivx3,ivx4,ivx5,ivx6,ivx7,ivx8,ivx9,ivx10]#各变量IV\n",
    "index=['x1','x2','x3','x4','x5','x6','x7','x8','x9','x10']#x轴的标签\n",
    "fig1 = plt.figure(1)\n",
    "ax1 = fig1.add_subplot(1, 1, 1)  \n",
    "#在一个大的画图空间fig中，前两个参数1和1分别代表子图的行数和列数，也就是我们现在生成了1x1图像，最后一个参数1代表第1个子图\n",
    "x = np.arange(len(index))+1 #设置x轴柱子的个数\n",
    "ax1.bar(x, ivlist, width=0.4)#生成柱状图\n",
    "ax1.set_xticks(x)  #设置x轴的刻度\n",
    "ax1.set_xticklabels(index, rotation=0, fontsize=12)\n",
    "ax1.set_ylabel('IV(Information Value)', fontsize=14)\n",
    "\n",
    "#在柱状图上添加数字标签\n",
    "for a, b in zip(x, ivlist):\n",
    "    plt.text(a, b + 0.01, '%.4f' % b, ha = 'center', va = 'bottom', fontsize = 10)\n",
    "    # ha='center'点在注释右边（right,center,left）,va='bottom'点在注释底部('top', 'bottom', 'center', 'baseline')\n",
    "plt.show()"
   ]
  },
  {
   "cell_type": "markdown",
   "metadata": {},
   "source": [
    "# 4.模型分析"
   ]
  },
  {
   "cell_type": "markdown",
   "metadata": {},
   "source": [
    "## WOE转换"
   ]
  },
  {
   "cell_type": "code",
   "execution_count": 32,
   "metadata": {
    "ExecuteTime": {
     "end_time": "2022-08-17T15:35:34.479046Z",
     "start_time": "2022-08-17T15:35:22.155657Z"
    }
   },
   "outputs": [
    {
     "data": {
      "text/html": [
       "<div>\n",
       "<style scoped>\n",
       "    .dataframe tbody tr th:only-of-type {\n",
       "        vertical-align: middle;\n",
       "    }\n",
       "\n",
       "    .dataframe tbody tr th {\n",
       "        vertical-align: top;\n",
       "    }\n",
       "\n",
       "    .dataframe thead th {\n",
       "        text-align: right;\n",
       "    }\n",
       "</style>\n",
       "<table border=\"1\" class=\"dataframe\">\n",
       "  <thead>\n",
       "    <tr style=\"text-align: right;\">\n",
       "      <th></th>\n",
       "      <th>SeriousDlqin2yrs</th>\n",
       "      <th>SeriousDlqin2yrs</th>\n",
       "      <th>RevolvingUtilizationOfUnsecuredLines</th>\n",
       "      <th>age</th>\n",
       "      <th>NumberOfTime30-59DaysPastDueNotWorse</th>\n",
       "      <th>DebtRatio</th>\n",
       "      <th>MonthlyIncome</th>\n",
       "      <th>NumberOfOpenCreditLinesAndLoans</th>\n",
       "      <th>NumberOfTimes90DaysLate</th>\n",
       "      <th>NumberRealEstateLoansOrLines</th>\n",
       "      <th>NumberOfTime60-89DaysPastDueNotWorse</th>\n",
       "      <th>NumberOfDependents</th>\n",
       "    </tr>\n",
       "  </thead>\n",
       "  <tbody>\n",
       "    <tr>\n",
       "      <th>0</th>\n",
       "      <td>1</td>\n",
       "      <td>1</td>\n",
       "      <td>-0.992</td>\n",
       "      <td>-0.364</td>\n",
       "      <td>0.0</td>\n",
       "      <td>0.0</td>\n",
       "      <td>-0.208</td>\n",
       "      <td>0.0</td>\n",
       "      <td>0.581</td>\n",
       "      <td>0.128</td>\n",
       "      <td>0.402</td>\n",
       "      <td>0.415</td>\n",
       "    </tr>\n",
       "    <tr>\n",
       "      <th>1</th>\n",
       "      <td>1</td>\n",
       "      <td>1</td>\n",
       "      <td>1.173</td>\n",
       "      <td>0.092</td>\n",
       "      <td>0.0</td>\n",
       "      <td>0.0</td>\n",
       "      <td>0.286</td>\n",
       "      <td>0.0</td>\n",
       "      <td>0.581</td>\n",
       "      <td>0.128</td>\n",
       "      <td>0.402</td>\n",
       "      <td>0.415</td>\n",
       "    </tr>\n",
       "    <tr>\n",
       "      <th>2</th>\n",
       "      <td>1</td>\n",
       "      <td>1</td>\n",
       "      <td>-0.992</td>\n",
       "      <td>0.381</td>\n",
       "      <td>0.0</td>\n",
       "      <td>0.0</td>\n",
       "      <td>0.499</td>\n",
       "      <td>0.0</td>\n",
       "      <td>0.581</td>\n",
       "      <td>0.128</td>\n",
       "      <td>0.402</td>\n",
       "      <td>0.415</td>\n",
       "    </tr>\n",
       "    <tr>\n",
       "      <th>3</th>\n",
       "      <td>1</td>\n",
       "      <td>1</td>\n",
       "      <td>0.976</td>\n",
       "      <td>-0.198</td>\n",
       "      <td>0.0</td>\n",
       "      <td>0.0</td>\n",
       "      <td>0.095</td>\n",
       "      <td>0.0</td>\n",
       "      <td>0.581</td>\n",
       "      <td>0.128</td>\n",
       "      <td>0.402</td>\n",
       "      <td>0.415</td>\n",
       "    </tr>\n",
       "    <tr>\n",
       "      <th>4</th>\n",
       "      <td>1</td>\n",
       "      <td>1</td>\n",
       "      <td>1.173</td>\n",
       "      <td>-0.364</td>\n",
       "      <td>0.0</td>\n",
       "      <td>0.0</td>\n",
       "      <td>-0.372</td>\n",
       "      <td>0.0</td>\n",
       "      <td>0.581</td>\n",
       "      <td>0.128</td>\n",
       "      <td>0.402</td>\n",
       "      <td>0.415</td>\n",
       "    </tr>\n",
       "    <tr>\n",
       "      <th>...</th>\n",
       "      <td>...</td>\n",
       "      <td>...</td>\n",
       "      <td>...</td>\n",
       "      <td>...</td>\n",
       "      <td>...</td>\n",
       "      <td>...</td>\n",
       "      <td>...</td>\n",
       "      <td>...</td>\n",
       "      <td>...</td>\n",
       "      <td>...</td>\n",
       "      <td>...</td>\n",
       "      <td>...</td>\n",
       "    </tr>\n",
       "    <tr>\n",
       "      <th>18056</th>\n",
       "      <td>1</td>\n",
       "      <td>1</td>\n",
       "      <td>0.156</td>\n",
       "      <td>-0.161</td>\n",
       "      <td>0.0</td>\n",
       "      <td>0.0</td>\n",
       "      <td>0.095</td>\n",
       "      <td>0.0</td>\n",
       "      <td>0.581</td>\n",
       "      <td>0.128</td>\n",
       "      <td>0.402</td>\n",
       "      <td>0.415</td>\n",
       "    </tr>\n",
       "    <tr>\n",
       "      <th>18057</th>\n",
       "      <td>1</td>\n",
       "      <td>1</td>\n",
       "      <td>1.173</td>\n",
       "      <td>-0.031</td>\n",
       "      <td>0.0</td>\n",
       "      <td>0.0</td>\n",
       "      <td>0.499</td>\n",
       "      <td>0.0</td>\n",
       "      <td>0.581</td>\n",
       "      <td>0.128</td>\n",
       "      <td>0.402</td>\n",
       "      <td>0.415</td>\n",
       "    </tr>\n",
       "    <tr>\n",
       "      <th>18058</th>\n",
       "      <td>1</td>\n",
       "      <td>1</td>\n",
       "      <td>0.156</td>\n",
       "      <td>-0.013</td>\n",
       "      <td>0.0</td>\n",
       "      <td>0.0</td>\n",
       "      <td>-0.372</td>\n",
       "      <td>0.0</td>\n",
       "      <td>0.581</td>\n",
       "      <td>0.128</td>\n",
       "      <td>0.402</td>\n",
       "      <td>0.415</td>\n",
       "    </tr>\n",
       "    <tr>\n",
       "      <th>18059</th>\n",
       "      <td>1</td>\n",
       "      <td>1</td>\n",
       "      <td>-0.992</td>\n",
       "      <td>0.651</td>\n",
       "      <td>0.0</td>\n",
       "      <td>0.0</td>\n",
       "      <td>0.286</td>\n",
       "      <td>0.0</td>\n",
       "      <td>0.581</td>\n",
       "      <td>0.128</td>\n",
       "      <td>0.402</td>\n",
       "      <td>0.415</td>\n",
       "    </tr>\n",
       "    <tr>\n",
       "      <th>18060</th>\n",
       "      <td>1</td>\n",
       "      <td>1</td>\n",
       "      <td>0.976</td>\n",
       "      <td>-0.031</td>\n",
       "      <td>0.0</td>\n",
       "      <td>0.0</td>\n",
       "      <td>0.286</td>\n",
       "      <td>0.0</td>\n",
       "      <td>0.581</td>\n",
       "      <td>0.128</td>\n",
       "      <td>0.402</td>\n",
       "      <td>0.415</td>\n",
       "    </tr>\n",
       "  </tbody>\n",
       "</table>\n",
       "<p>18061 rows × 12 columns</p>\n",
       "</div>"
      ],
      "text/plain": [
       "       SeriousDlqin2yrs  SeriousDlqin2yrs  \\\n",
       "0                     1                 1   \n",
       "1                     1                 1   \n",
       "2                     1                 1   \n",
       "3                     1                 1   \n",
       "4                     1                 1   \n",
       "...                 ...               ...   \n",
       "18056                 1                 1   \n",
       "18057                 1                 1   \n",
       "18058                 1                 1   \n",
       "18059                 1                 1   \n",
       "18060                 1                 1   \n",
       "\n",
       "       RevolvingUtilizationOfUnsecuredLines    age  \\\n",
       "0                                    -0.992 -0.364   \n",
       "1                                     1.173  0.092   \n",
       "2                                    -0.992  0.381   \n",
       "3                                     0.976 -0.198   \n",
       "4                                     1.173 -0.364   \n",
       "...                                     ...    ...   \n",
       "18056                                 0.156 -0.161   \n",
       "18057                                 1.173 -0.031   \n",
       "18058                                 0.156 -0.013   \n",
       "18059                                -0.992  0.651   \n",
       "18060                                 0.976 -0.031   \n",
       "\n",
       "       NumberOfTime30-59DaysPastDueNotWorse  DebtRatio  MonthlyIncome  \\\n",
       "0                                       0.0        0.0         -0.208   \n",
       "1                                       0.0        0.0          0.286   \n",
       "2                                       0.0        0.0          0.499   \n",
       "3                                       0.0        0.0          0.095   \n",
       "4                                       0.0        0.0         -0.372   \n",
       "...                                     ...        ...            ...   \n",
       "18056                                   0.0        0.0          0.095   \n",
       "18057                                   0.0        0.0          0.499   \n",
       "18058                                   0.0        0.0         -0.372   \n",
       "18059                                   0.0        0.0          0.286   \n",
       "18060                                   0.0        0.0          0.286   \n",
       "\n",
       "       NumberOfOpenCreditLinesAndLoans  NumberOfTimes90DaysLate  \\\n",
       "0                                  0.0                    0.581   \n",
       "1                                  0.0                    0.581   \n",
       "2                                  0.0                    0.581   \n",
       "3                                  0.0                    0.581   \n",
       "4                                  0.0                    0.581   \n",
       "...                                ...                      ...   \n",
       "18056                              0.0                    0.581   \n",
       "18057                              0.0                    0.581   \n",
       "18058                              0.0                    0.581   \n",
       "18059                              0.0                    0.581   \n",
       "18060                              0.0                    0.581   \n",
       "\n",
       "       NumberRealEstateLoansOrLines  NumberOfTime60-89DaysPastDueNotWorse  \\\n",
       "0                             0.128                                 0.402   \n",
       "1                             0.128                                 0.402   \n",
       "2                             0.128                                 0.402   \n",
       "3                             0.128                                 0.402   \n",
       "4                             0.128                                 0.402   \n",
       "...                             ...                                   ...   \n",
       "18056                         0.128                                 0.402   \n",
       "18057                         0.128                                 0.402   \n",
       "18058                         0.128                                 0.402   \n",
       "18059                         0.128                                 0.402   \n",
       "18060                         0.128                                 0.402   \n",
       "\n",
       "       NumberOfDependents  \n",
       "0                   0.415  \n",
       "1                   0.415  \n",
       "2                   0.415  \n",
       "3                   0.415  \n",
       "4                   0.415  \n",
       "...                   ...  \n",
       "18056               0.415  \n",
       "18057               0.415  \n",
       "18058               0.415  \n",
       "18059               0.415  \n",
       "18060               0.415  \n",
       "\n",
       "[18061 rows x 12 columns]"
      ]
     },
     "execution_count": 32,
     "metadata": {},
     "output_type": "execute_result"
    }
   ],
   "source": [
    "#建立模型之前，我们需要将筛选后的变量转换为WOE值，便于信用评分\n",
    "#替换成WOE函数\n",
    "def replace_woe(series,cut,woe):\n",
    "    list=[]\n",
    "    i=0\n",
    "    while i<len(series):\n",
    "        try:\n",
    "            value=series[i]\n",
    "        except:\n",
    "            i += 1\n",
    "            continue\n",
    "        j=len(cut)-2\n",
    "        m=len(cut)-2\n",
    "        while j>=0:\n",
    "            if value>=cut[j]:\n",
    "                j=-1\n",
    "            else:\n",
    "                j -=1\n",
    "                m -= 1\n",
    "        list.append(woe[m])\n",
    "        i += 1\n",
    "    return list\n",
    "\n",
    "# 替换成WOE\n",
    "train['RevolvingUtilizationOfUnsecuredLines'] = pd.Series(replace_woe(train['RevolvingUtilizationOfUnsecuredLines'], cutx1, woex1))\n",
    "train['age'] = pd.Series(replace_woe(train['age'], cutx2, woex2))\n",
    "train['NumberOfTime30-59DaysPastDueNotWorse'] = pd.Series(replace_woe(train['NumberOfTime30-59DaysPastDueNotWorse'], cutx3, woex3))\n",
    "train['DebtRatio'] = pd.Series(replace_woe(train['DebtRatio'], cutx4, woex4))\n",
    "train['MonthlyIncome'] = pd.Series(replace_woe(train['MonthlyIncome'], cutx5, woex5))\n",
    "train['NumberOfOpenCreditLinesAndLoans'] = pd.Series(replace_woe(train['NumberOfOpenCreditLinesAndLoans'], cutx6, woex6))\n",
    "train['NumberOfTimes90DaysLate'] = pd.Series(replace_woe(train['NumberOfTimes90DaysLate'], cutx7, woex7))\n",
    "train['NumberRealEstateLoansOrLines'] = pd.Series(replace_woe(train['NumberRealEstateLoansOrLines'], cutx8, woex8))\n",
    "train['NumberOfTime60-89DaysPastDueNotWorse'] = pd.Series(replace_woe(train['NumberOfTime60-89DaysPastDueNotWorse'], cutx9, woex9))\n",
    "train['NumberOfDependents'] = pd.Series(replace_woe(train['NumberOfDependents'], cutx10, woex10))\n",
    "train.dropna(how = 'any')\n",
    "train.to_csv('WoeData.csv', index=False)\n",
    "\n",
    "# 替换成WOE\n",
    "test['RevolvingUtilizationOfUnsecuredLines'] = pd.Series(replace_woe(test['RevolvingUtilizationOfUnsecuredLines'], cutx1, woex1))\n",
    "test['age'] = pd.Series(replace_woe(test['age'], cutx2, woex2))\n",
    "test['NumberOfTime30-59DaysPastDueNotWorse'] = pd.Series(replace_woe(test['NumberOfTime30-59DaysPastDueNotWorse'], cutx3, woex3))\n",
    "test['DebtRatio'] = pd.Series(replace_woe(test['DebtRatio'], cutx4, woex4))\n",
    "test['MonthlyIncome'] = pd.Series(replace_woe(test['MonthlyIncome'], cutx5, woex5))\n",
    "test['NumberOfOpenCreditLinesAndLoans'] = pd.Series(replace_woe(test['NumberOfOpenCreditLinesAndLoans'], cutx6, woex6))\n",
    "test['NumberOfTimes90DaysLate'] = pd.Series(replace_woe(test['NumberOfTimes90DaysLate'], cutx7, woex7))\n",
    "test['NumberRealEstateLoansOrLines'] = pd.Series(replace_woe(test['NumberRealEstateLoansOrLines'], cutx8, woex8))\n",
    "test['NumberOfTime60-89DaysPastDueNotWorse'] = pd.Series(replace_woe(test['NumberOfTime60-89DaysPastDueNotWorse'], cutx9, woex9))\n",
    "test['NumberOfDependents'] = pd.Series(replace_woe(test['NumberOfDependents'], cutx10, woex10))\n",
    "test.dropna(how = 'any')"
   ]
  },
  {
   "cell_type": "markdown",
   "metadata": {},
   "source": [
    "## 根据IV值筛选变量"
   ]
  },
  {
   "cell_type": "code",
   "execution_count": 33,
   "metadata": {
    "ExecuteTime": {
     "end_time": "2022-08-17T15:35:34.495037Z",
     "start_time": "2022-08-17T15:35:34.483045Z"
    }
   },
   "outputs": [],
   "source": [
    "train_X =X_train.drop(['NumberOfTime30-59DaysPastDueNotWorse','DebtRatio','MonthlyIncome','NumberOfOpenCreditLinesAndLoans','NumberRealEstateLoansOrLines'],axis=1)\n",
    "test_X =X_test.drop(['NumberOfTime30-59DaysPastDueNotWorse','DebtRatio','MonthlyIncome','NumberOfOpenCreditLinesAndLoans','NumberRealEstateLoansOrLines'],axis=1)"
   ]
  },
  {
   "cell_type": "markdown",
   "metadata": {},
   "source": [
    "## 建立logistic回归模型"
   ]
  },
  {
   "cell_type": "code",
   "execution_count": 35,
   "metadata": {
    "ExecuteTime": {
     "end_time": "2022-08-17T15:38:40.493198Z",
     "start_time": "2022-08-17T15:38:40.051473Z"
    }
   },
   "outputs": [
    {
     "name": "stdout",
     "output_type": "stream",
     "text": [
      "Optimization terminated successfully.\n",
      "         Current function value: 0.205080\n",
      "         Iterations 7\n",
      "                                   Results: Logit\n",
      "=====================================================================================\n",
      "Model:                      Logit                  Pseudo R-squared:       0.174     \n",
      "Dependent Variable:         SeriousDlqin2yrs       AIC:                    29642.7278\n",
      "Date:                       2022-08-17 23:38       BIC:                    29697.8545\n",
      "No. Observations:           72242                  Log-Likelihood:         -14815.   \n",
      "Df Model:                   5                      LL-Null:                -17931.   \n",
      "Df Residuals:               72236                  LLR p-value:            0.0000    \n",
      "Converged:                  1.0000                 Scale:                  1.0000    \n",
      "No. Iterations:             7.0000                                                   \n",
      "-------------------------------------------------------------------------------------\n",
      "                                      Coef.  Std.Err.    z     P>|z|   [0.025  0.975]\n",
      "-------------------------------------------------------------------------------------\n",
      "const                                 3.3727   0.0787  42.8799 0.0000  3.2185  3.5268\n",
      "RevolvingUtilizationOfUnsecuredLines -1.9394   0.0459 -42.2459 0.0000 -2.0294 -1.8494\n",
      "age                                   0.0109   0.0015   7.2063 0.0000  0.0079  0.0138\n",
      "NumberOfTimes90DaysLate              -0.7302   0.0238 -30.6687 0.0000 -0.7769 -0.6835\n",
      "NumberOfTime60-89DaysPastDueNotWorse -0.8708   0.0322 -27.0687 0.0000 -0.9338 -0.8077\n",
      "NumberOfDependents                   -0.0576   0.0128  -4.5160 0.0000 -0.0826 -0.0326\n",
      "=====================================================================================\n",
      "\n"
     ]
    }
   ],
   "source": [
    "from sklearn.metrics import roc_curve, auc\n",
    "import statsmodels.api as sm  # 最小二乘\n",
    "X_train = train_X.drop(['SeriousDlqin2yrs'],axis=1)\n",
    "y_train = Y_train\n",
    "X_test= test_X.drop(['SeriousDlqin2yrs'],axis=1)\n",
    "y_test= Y_test\n",
    "X_train = sm.add_constant(X_train)   # sm.add_constant 函数可以添加一个截距的列到现存的矩阵\n",
    "logit = sm.Logit(y_train,X_train)\n",
    "result = logit.fit()\n",
    "print(result.summary2())"
   ]
  },
  {
   "cell_type": "markdown",
   "metadata": {},
   "source": [
    "## 模型检验"
   ]
  },
  {
   "cell_type": "code",
   "execution_count": 36,
   "metadata": {
    "ExecuteTime": {
     "end_time": "2022-08-17T15:38:47.266269Z",
     "start_time": "2022-08-17T15:38:46.990438Z"
    }
   },
   "outputs": [
    {
     "data": {
      "image/png": "[encoded data removed]",
      "text/plain": [
       "<Figure size 432x288 with 1 Axes>"
      ]
     },
     "metadata": {
      "needs_background": "light"
     },
     "output_type": "display_data"
    }
   ],
   "source": [
    "from sklearn.metrics import roc_curve, auc\n",
    "X2 = sm.add_constant(X_test)\n",
    "resu = result.predict(X2)\n",
    "FPR,TPR,threshold = roc_curve(y_test,resu)\n",
    "ROC_AUC = auc(FPR,TPR)\n",
    "plt.plot(FPR, TPR, 'b', label='AUC = %0.2f' % ROC_AUC)\n",
    "plt.legend(loc='lower right')\n",
    "plt.plot([0, 1], [0, 1], 'r--')\n",
    "plt.xlim([0, 1])   #限制x轴的取值范围\n",
    "plt.ylim([0, 1])   #限制y轴的取值范围\n",
    "plt.ylabel('TPR')\n",
    "plt.xlabel('FPR')\n",
    "plt.show()"
   ]
  },
  {
   "cell_type": "markdown",
   "metadata": {},
   "source": [
    "# 5.建立信用评分卡"
   ]
  },
  {
   "cell_type": "markdown",
   "metadata": {},
   "source": [
    "## 评分标准"
   ]
  },
  {
   "cell_type": "code",
   "execution_count": 37,
   "metadata": {
    "ExecuteTime": {
     "end_time": "2022-08-17T15:38:58.804377Z",
     "start_time": "2022-08-17T15:38:58.789384Z"
    }
   },
   "outputs": [],
   "source": [
    "# 我们取600分为基础分值，PDO为20（每高20分好坏比翻一倍），好坏比取20。\n",
    "import math\n",
    "p = 20 / math.log(2)  # 比例因子\n",
    "q = 600 - 20 * math.log(20) / math.log(2)  #等于offset,偏移量\n",
    "coe=[3.3727, -1.9394,  0.0109, -0.7302, -0.8708, -0.0576]  # 回归系数\n",
    "baseScore = round(q + p * coe[0], 0)\n",
    "#个人总评分=基础分+各部分得分\n",
    "# 因为第一个是常数项\n",
    "#构建评分卡时候只需要选出那些，IV值高的特征就行，最后相加得到总分\n",
    "\n",
    "#计算分数函数\n",
    "def get_score(coe,woe,factor):\n",
    "    scores=[]\n",
    "    for w in woe:\n",
    "        score=round(coe*w*factor,0)\n",
    "        scores.append(score)\n",
    "    return scores\n",
    "\n",
    "# 各项部分分数\n",
    "x1 = get_score(coe[1], woex1, p)\n",
    "x2 = get_score(coe[2], woex2, p)\n",
    "x7 = get_score(coe[3], woex7, p)\n",
    "x9 = get_score(coe[4], woex9, p)\n",
    "x10 = get_score(coe[5], woex10, p)"
   ]
  },
  {
   "cell_type": "markdown",
   "metadata": {},
   "source": [
    "## 查看各特征变量得分情况"
   ]
  },
  {
   "cell_type": "code",
   "execution_count": 38,
   "metadata": {
    "ExecuteTime": {
     "end_time": "2022-08-17T15:39:04.646362Z",
     "start_time": "2022-08-17T15:39:04.629373Z"
    }
   },
   "outputs": [
    {
     "data": {
      "text/plain": [
       "[-66.0, -55.0, -9.0, 56.0]"
      ]
     },
     "execution_count": 38,
     "metadata": {},
     "output_type": "execute_result"
    }
   ],
   "source": [
    "x1"
   ]
  },
  {
   "cell_type": "code",
   "execution_count": 39,
   "metadata": {
    "ExecuteTime": {
     "end_time": "2022-08-17T15:39:04.662354Z",
     "start_time": "2022-08-17T15:39:04.650361Z"
    }
   },
   "outputs": [
    {
     "data": {
      "text/plain": [
       "[-0.0, -0.0, -0.0, -0.0, -0.0, 0.0, 0.0, 0.0]"
      ]
     },
     "execution_count": 39,
     "metadata": {},
     "output_type": "execute_result"
    }
   ],
   "source": [
    "x2"
   ]
  },
  {
   "cell_type": "code",
   "execution_count": 40,
   "metadata": {
    "ExecuteTime": {
     "end_time": "2022-08-17T15:39:04.678342Z",
     "start_time": "2022-08-17T15:39:04.666350Z"
    }
   },
   "outputs": [
    {
     "data": {
      "text/plain": [
       "[58.0, -12.0]"
      ]
     },
     "execution_count": 40,
     "metadata": {},
     "output_type": "execute_result"
    }
   ],
   "source": [
    "x7"
   ]
  },
  {
   "cell_type": "code",
   "execution_count": 41,
   "metadata": {
    "ExecuteTime": {
     "end_time": "2022-08-17T15:39:04.694333Z",
     "start_time": "2022-08-17T15:39:04.681344Z"
    }
   },
   "outputs": [
    {
     "data": {
      "text/plain": [
       "[51.0, -10.0]"
      ]
     },
     "execution_count": 41,
     "metadata": {},
     "output_type": "execute_result"
    }
   ],
   "source": [
    "x9"
   ]
  },
  {
   "cell_type": "code",
   "execution_count": 42,
   "metadata": {
    "ExecuteTime": {
     "end_time": "2022-08-17T15:39:04.710324Z",
     "start_time": "2022-08-17T15:39:04.698332Z"
    }
   },
   "outputs": [
    {
     "data": {
      "text/plain": [
       "[-1.0]"
      ]
     },
     "execution_count": 42,
     "metadata": {},
     "output_type": "execute_result"
    }
   ],
   "source": [
    "x10"
   ]
  },
  {
   "cell_type": "markdown",
   "metadata": {},
   "source": [
    "## 根据变量计算分数"
   ]
  },
  {
   "cell_type": "code",
   "execution_count": 43,
   "metadata": {
    "ExecuteTime": {
     "end_time": "2022-08-17T15:39:11.600148Z",
     "start_time": "2022-08-17T15:39:10.318917Z"
    }
   },
   "outputs": [],
   "source": [
    "#根据变量计算分数\n",
    "def compute_score(series,cut,score):\n",
    "    list = []\n",
    "    i = 0\n",
    "    while i < len(series):\n",
    "        value = series[i]\n",
    "        j = len(cut) - 2\n",
    "        m = len(cut) - 2\n",
    "        while j >= 0:\n",
    "            if value >= cut[j]:\n",
    "                j = -1\n",
    "            else:\n",
    "                j -= 1\n",
    "                m -= 1\n",
    "        list.append(score[m])\n",
    "        i += 1\n",
    "    return list\n",
    "# j和m相当于j是移动光标，m是跟着j，确定数的\n",
    "# list就是在x1里面挑一个值，这个值和series[i]是对应的\n",
    "\n",
    "from pandas import Series\n",
    "test['BaseScore']=Series(np.zeros(len(test))) + baseScore\n",
    "test['x1'] = Series(compute_score(test['RevolvingUtilizationOfUnsecuredLines'], cutx1, x1))\n",
    "test['x2'] = Series(compute_score(test['age'], cutx2, x2))\n",
    "test['x7'] = Series(compute_score(test['NumberOfTimes90DaysLate'], cutx7, x7))\n",
    "test['x9'] = Series(compute_score(test['NumberOfTime60-89DaysPastDueNotWorse'], cutx9, x9))\n",
    "test['x10'] = Series(compute_score(test['NumberOfDependents'], cutx10, x10))\n",
    "test['Score'] = test['x1'] + test['x2'] + test['x7'] + test['x9'] +test['x10']  + baseScore\n",
    "test.to_csv('ScoreData.csv', index=False)"
   ]
  },
  {
   "cell_type": "code",
   "execution_count": 44,
   "metadata": {
    "ExecuteTime": {
     "end_time": "2022-08-17T15:39:18.376633Z",
     "start_time": "2022-08-17T15:39:18.332662Z"
    }
   },
   "outputs": [
    {
     "data": {
      "text/html": [
       "<div>\n",
       "<style scoped>\n",
       "    .dataframe tbody tr th:only-of-type {\n",
       "        vertical-align: middle;\n",
       "    }\n",
       "\n",
       "    .dataframe tbody tr th {\n",
       "        vertical-align: top;\n",
       "    }\n",
       "\n",
       "    .dataframe thead th {\n",
       "        text-align: right;\n",
       "    }\n",
       "</style>\n",
       "<table border=\"1\" class=\"dataframe\">\n",
       "  <thead>\n",
       "    <tr style=\"text-align: right;\">\n",
       "      <th></th>\n",
       "      <th>SeriousDlqin2yrs</th>\n",
       "      <th>SeriousDlqin2yrs</th>\n",
       "      <th>BaseScore</th>\n",
       "      <th>x1</th>\n",
       "      <th>x2</th>\n",
       "      <th>x7</th>\n",
       "      <th>x9</th>\n",
       "      <th>x10</th>\n",
       "      <th>Score</th>\n",
       "    </tr>\n",
       "  </thead>\n",
       "  <tbody>\n",
       "    <tr>\n",
       "      <th>0</th>\n",
       "      <td>1</td>\n",
       "      <td>1</td>\n",
       "      <td>611.0</td>\n",
       "      <td>-66.0</td>\n",
       "      <td>-0.0</td>\n",
       "      <td>-12.0</td>\n",
       "      <td>-10.0</td>\n",
       "      <td>-1.0</td>\n",
       "      <td>522.0</td>\n",
       "    </tr>\n",
       "    <tr>\n",
       "      <th>1</th>\n",
       "      <td>1</td>\n",
       "      <td>1</td>\n",
       "      <td>611.0</td>\n",
       "      <td>56.0</td>\n",
       "      <td>-0.0</td>\n",
       "      <td>-12.0</td>\n",
       "      <td>-10.0</td>\n",
       "      <td>-1.0</td>\n",
       "      <td>644.0</td>\n",
       "    </tr>\n",
       "    <tr>\n",
       "      <th>2</th>\n",
       "      <td>1</td>\n",
       "      <td>1</td>\n",
       "      <td>611.0</td>\n",
       "      <td>-66.0</td>\n",
       "      <td>-0.0</td>\n",
       "      <td>-12.0</td>\n",
       "      <td>-10.0</td>\n",
       "      <td>-1.0</td>\n",
       "      <td>522.0</td>\n",
       "    </tr>\n",
       "    <tr>\n",
       "      <th>3</th>\n",
       "      <td>1</td>\n",
       "      <td>1</td>\n",
       "      <td>611.0</td>\n",
       "      <td>56.0</td>\n",
       "      <td>-0.0</td>\n",
       "      <td>-12.0</td>\n",
       "      <td>-10.0</td>\n",
       "      <td>-1.0</td>\n",
       "      <td>644.0</td>\n",
       "    </tr>\n",
       "    <tr>\n",
       "      <th>4</th>\n",
       "      <td>1</td>\n",
       "      <td>1</td>\n",
       "      <td>611.0</td>\n",
       "      <td>56.0</td>\n",
       "      <td>-0.0</td>\n",
       "      <td>-12.0</td>\n",
       "      <td>-10.0</td>\n",
       "      <td>-1.0</td>\n",
       "      <td>644.0</td>\n",
       "    </tr>\n",
       "    <tr>\n",
       "      <th>...</th>\n",
       "      <td>...</td>\n",
       "      <td>...</td>\n",
       "      <td>...</td>\n",
       "      <td>...</td>\n",
       "      <td>...</td>\n",
       "      <td>...</td>\n",
       "      <td>...</td>\n",
       "      <td>...</td>\n",
       "      <td>...</td>\n",
       "    </tr>\n",
       "    <tr>\n",
       "      <th>18056</th>\n",
       "      <td>1</td>\n",
       "      <td>1</td>\n",
       "      <td>611.0</td>\n",
       "      <td>-55.0</td>\n",
       "      <td>-0.0</td>\n",
       "      <td>-12.0</td>\n",
       "      <td>-10.0</td>\n",
       "      <td>-1.0</td>\n",
       "      <td>533.0</td>\n",
       "    </tr>\n",
       "    <tr>\n",
       "      <th>18057</th>\n",
       "      <td>1</td>\n",
       "      <td>1</td>\n",
       "      <td>611.0</td>\n",
       "      <td>56.0</td>\n",
       "      <td>-0.0</td>\n",
       "      <td>-12.0</td>\n",
       "      <td>-10.0</td>\n",
       "      <td>-1.0</td>\n",
       "      <td>644.0</td>\n",
       "    </tr>\n",
       "    <tr>\n",
       "      <th>18058</th>\n",
       "      <td>1</td>\n",
       "      <td>1</td>\n",
       "      <td>611.0</td>\n",
       "      <td>-55.0</td>\n",
       "      <td>-0.0</td>\n",
       "      <td>-12.0</td>\n",
       "      <td>-10.0</td>\n",
       "      <td>-1.0</td>\n",
       "      <td>533.0</td>\n",
       "    </tr>\n",
       "    <tr>\n",
       "      <th>18059</th>\n",
       "      <td>1</td>\n",
       "      <td>1</td>\n",
       "      <td>611.0</td>\n",
       "      <td>-66.0</td>\n",
       "      <td>-0.0</td>\n",
       "      <td>-12.0</td>\n",
       "      <td>-10.0</td>\n",
       "      <td>-1.0</td>\n",
       "      <td>522.0</td>\n",
       "    </tr>\n",
       "    <tr>\n",
       "      <th>18060</th>\n",
       "      <td>1</td>\n",
       "      <td>1</td>\n",
       "      <td>611.0</td>\n",
       "      <td>56.0</td>\n",
       "      <td>-0.0</td>\n",
       "      <td>-12.0</td>\n",
       "      <td>-10.0</td>\n",
       "      <td>-1.0</td>\n",
       "      <td>644.0</td>\n",
       "    </tr>\n",
       "  </tbody>\n",
       "</table>\n",
       "<p>18061 rows × 9 columns</p>\n",
       "</div>"
      ],
      "text/plain": [
       "       SeriousDlqin2yrs  SeriousDlqin2yrs  BaseScore    x1   x2    x7    x9  \\\n",
       "0                     1                 1      611.0 -66.0 -0.0 -12.0 -10.0   \n",
       "1                     1                 1      611.0  56.0 -0.0 -12.0 -10.0   \n",
       "2                     1                 1      611.0 -66.0 -0.0 -12.0 -10.0   \n",
       "3                     1                 1      611.0  56.0 -0.0 -12.0 -10.0   \n",
       "4                     1                 1      611.0  56.0 -0.0 -12.0 -10.0   \n",
       "...                 ...               ...        ...   ...  ...   ...   ...   \n",
       "18056                 1                 1      611.0 -55.0 -0.0 -12.0 -10.0   \n",
       "18057                 1                 1      611.0  56.0 -0.0 -12.0 -10.0   \n",
       "18058                 1                 1      611.0 -55.0 -0.0 -12.0 -10.0   \n",
       "18059                 1                 1      611.0 -66.0 -0.0 -12.0 -10.0   \n",
       "18060                 1                 1      611.0  56.0 -0.0 -12.0 -10.0   \n",
       "\n",
       "       x10  Score  \n",
       "0     -1.0  522.0  \n",
       "1     -1.0  644.0  \n",
       "2     -1.0  522.0  \n",
       "3     -1.0  644.0  \n",
       "4     -1.0  644.0  \n",
       "...    ...    ...  \n",
       "18056 -1.0  533.0  \n",
       "18057 -1.0  644.0  \n",
       "18058 -1.0  533.0  \n",
       "18059 -1.0  522.0  \n",
       "18060 -1.0  644.0  \n",
       "\n",
       "[18061 rows x 9 columns]"
      ]
     },
     "execution_count": 44,
     "metadata": {},
     "output_type": "execute_result"
    }
   ],
   "source": [
    "test.loc[:,['SeriousDlqin2yrs','BaseScore', 'x1', 'x2', 'x7', 'x9', 'x10', 'Score']]"
   ]
  },
  {
   "cell_type": "code",
   "execution_count": 45,
   "metadata": {
    "ExecuteTime": {
     "end_time": "2022-08-17T15:39:23.397426Z",
     "start_time": "2022-08-17T15:39:23.362447Z"
    }
   },
   "outputs": [
    {
     "data": {
      "text/html": [
       "<div>\n",
       "<style scoped>\n",
       "    .dataframe tbody tr th:only-of-type {\n",
       "        vertical-align: middle;\n",
       "    }\n",
       "\n",
       "    .dataframe tbody tr th {\n",
       "        vertical-align: top;\n",
       "    }\n",
       "\n",
       "    .dataframe thead th {\n",
       "        text-align: right;\n",
       "    }\n",
       "</style>\n",
       "<table border=\"1\" class=\"dataframe\">\n",
       "  <thead>\n",
       "    <tr style=\"text-align: right;\">\n",
       "      <th></th>\n",
       "      <th>SeriousDlqin2yrs</th>\n",
       "      <th>SeriousDlqin2yrs</th>\n",
       "      <th>BaseScore</th>\n",
       "      <th>x1</th>\n",
       "      <th>x2</th>\n",
       "      <th>x7</th>\n",
       "      <th>x9</th>\n",
       "      <th>x10</th>\n",
       "      <th>Score</th>\n",
       "    </tr>\n",
       "  </thead>\n",
       "  <tbody>\n",
       "    <tr>\n",
       "      <th>18056</th>\n",
       "      <td>1</td>\n",
       "      <td>1</td>\n",
       "      <td>611.0</td>\n",
       "      <td>-55.0</td>\n",
       "      <td>-0.0</td>\n",
       "      <td>-12.0</td>\n",
       "      <td>-10.0</td>\n",
       "      <td>-1.0</td>\n",
       "      <td>533.0</td>\n",
       "    </tr>\n",
       "    <tr>\n",
       "      <th>18057</th>\n",
       "      <td>1</td>\n",
       "      <td>1</td>\n",
       "      <td>611.0</td>\n",
       "      <td>56.0</td>\n",
       "      <td>-0.0</td>\n",
       "      <td>-12.0</td>\n",
       "      <td>-10.0</td>\n",
       "      <td>-1.0</td>\n",
       "      <td>644.0</td>\n",
       "    </tr>\n",
       "    <tr>\n",
       "      <th>18058</th>\n",
       "      <td>1</td>\n",
       "      <td>1</td>\n",
       "      <td>611.0</td>\n",
       "      <td>-55.0</td>\n",
       "      <td>-0.0</td>\n",
       "      <td>-12.0</td>\n",
       "      <td>-10.0</td>\n",
       "      <td>-1.0</td>\n",
       "      <td>533.0</td>\n",
       "    </tr>\n",
       "    <tr>\n",
       "      <th>18059</th>\n",
       "      <td>1</td>\n",
       "      <td>1</td>\n",
       "      <td>611.0</td>\n",
       "      <td>-66.0</td>\n",
       "      <td>-0.0</td>\n",
       "      <td>-12.0</td>\n",
       "      <td>-10.0</td>\n",
       "      <td>-1.0</td>\n",
       "      <td>522.0</td>\n",
       "    </tr>\n",
       "    <tr>\n",
       "      <th>18060</th>\n",
       "      <td>1</td>\n",
       "      <td>1</td>\n",
       "      <td>611.0</td>\n",
       "      <td>56.0</td>\n",
       "      <td>-0.0</td>\n",
       "      <td>-12.0</td>\n",
       "      <td>-10.0</td>\n",
       "      <td>-1.0</td>\n",
       "      <td>644.0</td>\n",
       "    </tr>\n",
       "  </tbody>\n",
       "</table>\n",
       "</div>"
      ],
      "text/plain": [
       "       SeriousDlqin2yrs  SeriousDlqin2yrs  BaseScore    x1   x2    x7    x9  \\\n",
       "18056                 1                 1      611.0 -55.0 -0.0 -12.0 -10.0   \n",
       "18057                 1                 1      611.0  56.0 -0.0 -12.0 -10.0   \n",
       "18058                 1                 1      611.0 -55.0 -0.0 -12.0 -10.0   \n",
       "18059                 1                 1      611.0 -66.0 -0.0 -12.0 -10.0   \n",
       "18060                 1                 1      611.0  56.0 -0.0 -12.0 -10.0   \n",
       "\n",
       "       x10  Score  \n",
       "18056 -1.0  533.0  \n",
       "18057 -1.0  644.0  \n",
       "18058 -1.0  533.0  \n",
       "18059 -1.0  522.0  \n",
       "18060 -1.0  644.0  "
      ]
     },
     "execution_count": 45,
     "metadata": {},
     "output_type": "execute_result"
    }
   ],
   "source": [
    "test.loc[:,['SeriousDlqin2yrs','BaseScore', 'x1', 'x2', 'x7', 'x9', 'x10', 'Score']].tail()"
   ]
  },
  {
   "cell_type": "markdown",
   "metadata": {},
   "source": [
    "## 客户分数概览"
   ]
  },
  {
   "cell_type": "code",
   "execution_count": 46,
   "metadata": {
    "ExecuteTime": {
     "end_time": "2022-08-17T15:39:30.101059Z",
     "start_time": "2022-08-17T15:39:30.088066Z"
    }
   },
   "outputs": [],
   "source": [
    "test_2=test.loc[:,['SeriousDlqin2yrs','BaseScore', 'x1', 'x2', 'x7', 'x9', 'x10', 'Score']]"
   ]
  },
  {
   "cell_type": "code",
   "execution_count": 47,
   "metadata": {
    "ExecuteTime": {
     "end_time": "2022-08-17T15:39:32.610673Z",
     "start_time": "2022-08-17T15:39:32.552707Z"
    }
   },
   "outputs": [
    {
     "data": {
      "text/html": [
       "<div>\n",
       "<style scoped>\n",
       "    .dataframe tbody tr th:only-of-type {\n",
       "        vertical-align: middle;\n",
       "    }\n",
       "\n",
       "    .dataframe tbody tr th {\n",
       "        vertical-align: top;\n",
       "    }\n",
       "\n",
       "    .dataframe thead th {\n",
       "        text-align: right;\n",
       "    }\n",
       "</style>\n",
       "<table border=\"1\" class=\"dataframe\">\n",
       "  <thead>\n",
       "    <tr style=\"text-align: right;\">\n",
       "      <th></th>\n",
       "      <th>SeriousDlqin2yrs</th>\n",
       "      <th>SeriousDlqin2yrs</th>\n",
       "      <th>BaseScore</th>\n",
       "      <th>x1</th>\n",
       "      <th>x2</th>\n",
       "      <th>x7</th>\n",
       "      <th>x9</th>\n",
       "      <th>x10</th>\n",
       "      <th>Score</th>\n",
       "    </tr>\n",
       "  </thead>\n",
       "  <tbody>\n",
       "    <tr>\n",
       "      <th>count</th>\n",
       "      <td>18061.000000</td>\n",
       "      <td>18061.000000</td>\n",
       "      <td>18061.0</td>\n",
       "      <td>18061.000000</td>\n",
       "      <td>18061.0</td>\n",
       "      <td>18061.0</td>\n",
       "      <td>18061.0</td>\n",
       "      <td>18061.0</td>\n",
       "      <td>18061.000000</td>\n",
       "    </tr>\n",
       "    <tr>\n",
       "      <th>mean</th>\n",
       "      <td>0.932064</td>\n",
       "      <td>0.932064</td>\n",
       "      <td>611.0</td>\n",
       "      <td>-2.482033</td>\n",
       "      <td>0.0</td>\n",
       "      <td>-12.0</td>\n",
       "      <td>-10.0</td>\n",
       "      <td>-1.0</td>\n",
       "      <td>585.517967</td>\n",
       "    </tr>\n",
       "    <tr>\n",
       "      <th>std</th>\n",
       "      <td>0.251644</td>\n",
       "      <td>0.251644</td>\n",
       "      <td>0.0</td>\n",
       "      <td>58.384387</td>\n",
       "      <td>0.0</td>\n",
       "      <td>0.0</td>\n",
       "      <td>0.0</td>\n",
       "      <td>0.0</td>\n",
       "      <td>58.384387</td>\n",
       "    </tr>\n",
       "    <tr>\n",
       "      <th>min</th>\n",
       "      <td>0.000000</td>\n",
       "      <td>0.000000</td>\n",
       "      <td>611.0</td>\n",
       "      <td>-66.000000</td>\n",
       "      <td>-0.0</td>\n",
       "      <td>-12.0</td>\n",
       "      <td>-10.0</td>\n",
       "      <td>-1.0</td>\n",
       "      <td>522.000000</td>\n",
       "    </tr>\n",
       "    <tr>\n",
       "      <th>25%</th>\n",
       "      <td>1.000000</td>\n",
       "      <td>1.000000</td>\n",
       "      <td>611.0</td>\n",
       "      <td>-66.000000</td>\n",
       "      <td>-0.0</td>\n",
       "      <td>-12.0</td>\n",
       "      <td>-10.0</td>\n",
       "      <td>-1.0</td>\n",
       "      <td>522.000000</td>\n",
       "    </tr>\n",
       "    <tr>\n",
       "      <th>50%</th>\n",
       "      <td>1.000000</td>\n",
       "      <td>1.000000</td>\n",
       "      <td>611.0</td>\n",
       "      <td>-55.000000</td>\n",
       "      <td>-0.0</td>\n",
       "      <td>-12.0</td>\n",
       "      <td>-10.0</td>\n",
       "      <td>-1.0</td>\n",
       "      <td>533.000000</td>\n",
       "    </tr>\n",
       "    <tr>\n",
       "      <th>75%</th>\n",
       "      <td>1.000000</td>\n",
       "      <td>1.000000</td>\n",
       "      <td>611.0</td>\n",
       "      <td>56.000000</td>\n",
       "      <td>-0.0</td>\n",
       "      <td>-12.0</td>\n",
       "      <td>-10.0</td>\n",
       "      <td>-1.0</td>\n",
       "      <td>644.000000</td>\n",
       "    </tr>\n",
       "    <tr>\n",
       "      <th>max</th>\n",
       "      <td>1.000000</td>\n",
       "      <td>1.000000</td>\n",
       "      <td>611.0</td>\n",
       "      <td>56.000000</td>\n",
       "      <td>-0.0</td>\n",
       "      <td>-12.0</td>\n",
       "      <td>-10.0</td>\n",
       "      <td>-1.0</td>\n",
       "      <td>644.000000</td>\n",
       "    </tr>\n",
       "  </tbody>\n",
       "</table>\n",
       "</div>"
      ],
      "text/plain": [
       "       SeriousDlqin2yrs  SeriousDlqin2yrs  BaseScore            x1       x2  \\\n",
       "count      18061.000000      18061.000000    18061.0  18061.000000  18061.0   \n",
       "mean           0.932064          0.932064      611.0     -2.482033      0.0   \n",
       "std            0.251644          0.251644        0.0     58.384387      0.0   \n",
       "min            0.000000          0.000000      611.0    -66.000000     -0.0   \n",
       "25%            1.000000          1.000000      611.0    -66.000000     -0.0   \n",
       "50%            1.000000          1.000000      611.0    -55.000000     -0.0   \n",
       "75%            1.000000          1.000000      611.0     56.000000     -0.0   \n",
       "max            1.000000          1.000000      611.0     56.000000     -0.0   \n",
       "\n",
       "            x7       x9      x10         Score  \n",
       "count  18061.0  18061.0  18061.0  18061.000000  \n",
       "mean     -12.0    -10.0     -1.0    585.517967  \n",
       "std        0.0      0.0      0.0     58.384387  \n",
       "min      -12.0    -10.0     -1.0    522.000000  \n",
       "25%      -12.0    -10.0     -1.0    522.000000  \n",
       "50%      -12.0    -10.0     -1.0    533.000000  \n",
       "75%      -12.0    -10.0     -1.0    644.000000  \n",
       "max      -12.0    -10.0     -1.0    644.000000  "
      ]
     },
     "execution_count": 47,
     "metadata": {},
     "output_type": "execute_result"
    }
   ],
   "source": [
    "test_2.describe()"
   ]
  }
 ],
 "metadata": {
  "kernelspec": {
   "display_name": "Python 3",
   "language": "python",
   "name": "python3"
  },
  "language_info": {
   "codemirror_mode": {
    "name": "ipython",
    "version": 3
   },
   "file_extension": ".py",
   "mimetype": "text/x-python",
   "name": "python",
   "nbconvert_exporter": "python",
   "pygments_lexer": "ipython3",
   "version": "3.8.5"
  },
  "toc": {
   "base_numbering": 1,
   "nav_menu": {},
   "number_sections": true,
   "sideBar": true,
   "skip_h1_title": false,
   "title_cell": "Table of Contents",
   "title_sidebar": "Contents",
   "toc_cell": false,
   "toc_position": {},
   "toc_section_display": true,
   "toc_window_display": true
  }
 },
 "nbformat": 4,
 "nbformat_minor": 4
}
